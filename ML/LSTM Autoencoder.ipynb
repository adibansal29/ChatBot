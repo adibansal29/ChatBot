{
 "cells": [
  {
   "cell_type": "code",
   "execution_count": 1,
   "id": "1bf89633-fdef-434f-9d41-d6bdb0ed8a27",
   "metadata": {},
   "outputs": [],
   "source": [
    "import pandas as pd\n",
    "df_events = pd.read_csv(\"C:\\\\Internship\\\\2264002\\\\Microinverters\\\\202143051106_events.csv\")\n",
    "df_reading = pd.read_csv(\"C:\\\\Internship\\\\2264002\\\\Microinverters\\\\202143051106_readings.csv\", low_memory = False)"
   ]
  },
  {
   "cell_type": "code",
   "execution_count": 2,
   "id": "caee277e-152b-4348-af1a-cfb962f94013",
   "metadata": {},
   "outputs": [],
   "source": [
    "df = df_reading[['date','energy_produced']].copy()"
   ]
  },
  {
   "cell_type": "code",
   "execution_count": 3,
   "id": "0fd38151-0529-4dfc-afa8-3228c9c8049c",
   "metadata": {},
   "outputs": [],
   "source": [
    "df['date'] = pd.to_datetime(df['date'],utc = True)"
   ]
  },
  {
   "cell_type": "code",
   "execution_count": 5,
   "id": "b92a871f-3377-47d5-82c7-43fbfcff0d5d",
   "metadata": {},
   "outputs": [],
   "source": [
    "df['minute'] = df['date'].dt.minute\n",
    "df['hour'] = df['date'].dt.hour\n",
    "df['day'] = df['date'].dt.day\n",
    "df['month'] = df['date'].dt.month"
   ]
  },
  {
   "cell_type": "code",
   "execution_count": 7,
   "id": "50f44739-4d45-4a26-80bd-e4169b678480",
   "metadata": {},
   "outputs": [],
   "source": [
    "from sklearn.preprocessing import StandardScaler\n",
    "scaler_energy = StandardScaler()\n",
    "scaler_energy.fit(df[['energy_produced']])\n",
    "df['energy_produced'] = scaler_energy.transform(df[['energy_produced']])"
   ]
  },
  {
   "cell_type": "code",
   "execution_count": 9,
   "id": "45ae27ea-1dda-4f6b-a8f3-7befde5d07f3",
   "metadata": {},
   "outputs": [],
   "source": [
    "df['energy_produced'] *=10"
   ]
  },
  {
   "cell_type": "code",
   "execution_count": 11,
   "id": "84ba8a42-c564-4c18-95e9-2e5a31d9964f",
   "metadata": {},
   "outputs": [],
   "source": [
    "def create_sequences(data, time_steps):\n",
    "    sequences = []\n",
    "    for i in range(len(data) - time_steps):\n",
    "        seq = data[i:i + time_steps]\n",
    "        sequences.append(seq)\n",
    "    return np.array(sequences)"
   ]
  },
  {
   "cell_type": "code",
   "execution_count": 12,
   "id": "a69f1069-14c5-4c53-96f9-331b3836f5f8",
   "metadata": {},
   "outputs": [],
   "source": [
    "features = df[['minute', 'hour', 'day', 'month', 'energy_produced']].values"
   ]
  },
  {
   "cell_type": "code",
   "execution_count": 13,
   "id": "4dbdcbba-6379-462f-aaff-7592580fc7ea",
   "metadata": {},
   "outputs": [],
   "source": [
    "import numpy as np\n",
    "time_steps = 20\n",
    "X = create_sequences(features, time_steps)"
   ]
  },
  {
   "cell_type": "code",
   "execution_count": 58,
   "id": "a3d2dbd3-3829-4e36-89c4-94f24631d04c",
   "metadata": {},
   "outputs": [],
   "source": [
    "model = Sequential([\n",
    "    Input(shape = (X.shape[1],X.shape[2])),\n",
    "    LSTM(32, activation='relu', return_sequences=True),\n",
    "    LSTM(16, activation='relu', return_sequences=False),\n",
    "    RepeatVector(time_steps),\n",
    "    LSTM(16, activation='relu', return_sequences=True),\n",
    "    LSTM(32, activation='relu', return_sequences=True),\n",
    "    TimeDistributed(Dense(X.shape[2]))\n",
    "])"
   ]
  },
  {
   "cell_type": "code",
   "execution_count": 61,
   "id": "0b8a6662-e0b2-4fcd-9b70-a46c0593b1e2",
   "metadata": {},
   "outputs": [
    {
     "name": "stdout",
     "output_type": "stream",
     "text": [
      "Epoch 1/5\n",
      "\u001b[1m1668/1668\u001b[0m \u001b[32m━━━━━━━━━━━━━━━━━━━━\u001b[0m\u001b[37m\u001b[0m \u001b[1m77s\u001b[0m 39ms/step - loss: 97.8787 - val_loss: 96.8310\n",
      "Epoch 2/5\n",
      "\u001b[1m1668/1668\u001b[0m \u001b[32m━━━━━━━━━━━━━━━━━━━━\u001b[0m\u001b[37m\u001b[0m \u001b[1m55s\u001b[0m 33ms/step - loss: 86.0366 - val_loss: 75.4802\n",
      "Epoch 3/5\n",
      "\u001b[1m1668/1668\u001b[0m \u001b[32m━━━━━━━━━━━━━━━━━━━━\u001b[0m\u001b[37m\u001b[0m \u001b[1m55s\u001b[0m 33ms/step - loss: 72.9112 - val_loss: 75.1502\n",
      "Epoch 4/5\n",
      "\u001b[1m1668/1668\u001b[0m \u001b[32m━━━━━━━━━━━━━━━━━━━━\u001b[0m\u001b[37m\u001b[0m \u001b[1m64s\u001b[0m 39ms/step - loss: 70.2104 - val_loss: 68.5518\n",
      "Epoch 5/5\n",
      "\u001b[1m1668/1668\u001b[0m \u001b[32m━━━━━━━━━━━━━━━━━━━━\u001b[0m\u001b[37m\u001b[0m \u001b[1m71s\u001b[0m 42ms/step - loss: 59.2864 - val_loss: 65.3558\n"
     ]
    },
    {
     "data": {
      "text/plain": [
       "<keras.src.callbacks.history.History at 0x19227bc1710>"
      ]
     },
     "execution_count": 61,
     "metadata": {},
     "output_type": "execute_result"
    }
   ],
   "source": [
    "model.compile(optimizer='adam', loss='mse')\n",
    "model.fit(X, X, epochs=5, validation_split=0.1)"
   ]
  },
  {
   "cell_type": "code",
   "execution_count": 17,
   "id": "c5c15047-a222-4c51-8ef5-da952e8524d3",
   "metadata": {},
   "outputs": [
    {
     "name": "stdout",
     "output_type": "stream",
     "text": [
      "\u001b[1m1853/1853\u001b[0m \u001b[32m━━━━━━━━━━━━━━━━━━━━\u001b[0m\u001b[37m\u001b[0m \u001b[1m8s\u001b[0m 4ms/step\n"
     ]
    }
   ],
   "source": [
    "X_pred = model.predict(X)"
   ]
  },
  {
   "cell_type": "code",
   "execution_count": 43,
   "id": "94425427-6661-4952-a15a-ecd7a3a2fbe4",
   "metadata": {},
   "outputs": [
    {
     "data": {
      "text/plain": [
       "['C:\\\\Internship\\\\microinverter_scale.pkl']"
      ]
     },
     "execution_count": 43,
     "metadata": {},
     "output_type": "execute_result"
    }
   ],
   "source": [
    "import joblib\n",
    "joblib.dump(model, \"C:\\\\Internship\\\\microinverter_model.pkl\")\n",
    "joblib.dump(scaler_energy, \"C:\\\\Internship\\\\microinverter_scale.pkl\")"
   ]
  },
  {
   "cell_type": "code",
   "execution_count": 18,
   "id": "d08bea7b-960c-49f2-8208-0b20e8e22f2a",
   "metadata": {},
   "outputs": [],
   "source": [
    "error = np.mean(np.square(X_pred - X), axis=1)\n",
    "error = error[:,4]"
   ]
  },
  {
   "cell_type": "code",
   "execution_count": 19,
   "id": "111d9aa0-4a50-4841-9dea-2faa6e3f50f6",
   "metadata": {},
   "outputs": [
    {
     "data": {
      "text/plain": [
       "array([ 1.12640153,  1.30419233,  1.29208464, ..., 14.97916173,\n",
       "        8.5430805 ,  2.75345446])"
      ]
     },
     "execution_count": 19,
     "metadata": {},
     "output_type": "execute_result"
    }
   ],
   "source": [
    "error"
   ]
  },
  {
   "cell_type": "code",
   "execution_count": 20,
   "id": "bb087076-b0fe-40fc-9287-efa50b1213a6",
   "metadata": {},
   "outputs": [],
   "source": [
    "from matplotlib import pyplot as plt"
   ]
  },
  {
   "cell_type": "code",
   "execution_count": 21,
   "id": "39f88d55-532c-4e04-b196-042e2ebeb69c",
   "metadata": {},
   "outputs": [
    {
     "data": {
      "text/plain": [
       "(array([4.0080e+04, 1.4532e+04, 3.0700e+03, 8.4300e+02, 3.8200e+02,\n",
       "        2.0800e+02, 8.8000e+01, 3.0000e+01, 1.4000e+01, 7.0000e+00,\n",
       "        5.0000e+00, 2.0000e+00, 4.0000e+00, 4.0000e+00, 1.1000e+01,\n",
       "        2.0000e+00, 1.0000e+00, 2.0000e+00, 5.0000e+00, 2.0000e+00,\n",
       "        1.0000e+00, 0.0000e+00, 0.0000e+00, 0.0000e+00, 0.0000e+00,\n",
       "        0.0000e+00, 0.0000e+00, 0.0000e+00, 0.0000e+00, 1.0000e+00]),\n",
       " array([7.89996431e-02, 1.54430316e+01, 3.08070635e+01, 4.61710955e+01,\n",
       "        6.15351274e+01, 7.68991593e+01, 9.22631913e+01, 1.07627223e+02,\n",
       "        1.22991255e+02, 1.38355287e+02, 1.53719319e+02, 1.69083351e+02,\n",
       "        1.84447383e+02, 1.99811415e+02, 2.15175447e+02, 2.30539479e+02,\n",
       "        2.45903511e+02, 2.61267543e+02, 2.76631575e+02, 2.91995606e+02,\n",
       "        3.07359638e+02, 3.22723670e+02, 3.38087702e+02, 3.53451734e+02,\n",
       "        3.68815766e+02, 3.84179798e+02, 3.99543830e+02, 4.14907862e+02,\n",
       "        4.30271894e+02, 4.45635926e+02, 4.60999958e+02]),\n",
       " <BarContainer object of 30 artists>)"
      ]
     },
     "execution_count": 21,
     "metadata": {},
     "output_type": "execute_result"
    },
    {
     "data": {
      "image/png": "[encoded data removed]",
      "text/plain": [
       "<Figure size 640x480 with 1 Axes>"
      ]
     },
     "metadata": {},
     "output_type": "display_data"
    }
   ],
   "source": [
    "plt.hist(error, bins=30)"
   ]
  },
  {
   "cell_type": "code",
   "execution_count": 22,
   "id": "7f418f07-21c6-4dec-92ea-ed3a7f8582be",
   "metadata": {},
   "outputs": [],
   "source": [
    "anomaly_df = pd.DataFrame(df[time_steps:])"
   ]
  },
  {
   "cell_type": "code",
   "execution_count": 23,
   "id": "514ae58f-d3bb-40df-a631-e460ff39743c",
   "metadata": {},
   "outputs": [],
   "source": [
    "anomaly_df['MSE'] = error"
   ]
  },
  {
   "cell_type": "code",
   "execution_count": 33,
   "id": "b71ef9bb-8c24-496a-ad02-63365572abfd",
   "metadata": {},
   "outputs": [
    {
     "data": {
      "text/plain": [
       "82.56936460226132"
      ]
     },
     "execution_count": 33,
     "metadata": {},
     "output_type": "execute_result"
    }
   ],
   "source": [
    "border = np.percentile(error,99.5)\n",
    "border"
   ]
  },
  {
   "cell_type": "code",
   "execution_count": 34,
   "id": "645fc615-f387-4af3-b28b-df535c1c419b",
   "metadata": {},
   "outputs": [
    {
     "data": {
      "text/plain": [
       "['C:\\\\Internship\\\\microinverter_cutoff.pkl']"
      ]
     },
     "execution_count": 34,
     "metadata": {},
     "output_type": "execute_result"
    }
   ],
   "source": [
    "joblib.dump(border, \"C:\\\\Internship\\\\microinverter_cutoff.pkl\")"
   ]
  },
  {
   "cell_type": "code",
   "execution_count": 25,
   "id": "a864c378-0015-4789-ab1a-73df899bec5f",
   "metadata": {},
   "outputs": [],
   "source": [
    "anomaly_df['error_cutoff'] = border"
   ]
  },
  {
   "cell_type": "code",
   "execution_count": 26,
   "id": "c8ac6ab4-eee6-4d3a-858e-0d6480af7b29",
   "metadata": {},
   "outputs": [],
   "source": [
    "anomaly_df['anomaly'] = anomaly_df['MSE'] > anomaly_df['error_cutoff']"
   ]
  },
  {
   "cell_type": "code",
   "execution_count": 27,
   "id": "8731b5f7-6ef8-4457-8b80-9100d4b4aabd",
   "metadata": {},
   "outputs": [],
   "source": [
    "anomaly_df['energy_produced']/=10"
   ]
  },
  {
   "cell_type": "code",
   "execution_count": 28,
   "id": "8569b0e5-b452-4c72-af58-a11abfcc935f",
   "metadata": {},
   "outputs": [],
   "source": [
    "anomaly_df['energy_produced'] = scaler_energy.inverse_transform(anomaly_df[['energy_produced']])"
   ]
  },
  {
   "cell_type": "code",
   "execution_count": 29,
   "id": "b9f0bb69-e3fd-4073-bc80-964d9045a205",
   "metadata": {},
   "outputs": [],
   "source": [
    "anomaly = anomaly_df.loc[anomaly_df['anomaly'] == True]"
   ]
  },
  {
   "cell_type": "code",
   "execution_count": 30,
   "id": "3b73897e-b764-4b26-ae7b-5e172327ded2",
   "metadata": {},
   "outputs": [
    {
     "data": {
      "text/html": [
       "<div>\n",
       "<style scoped>\n",
       "    .dataframe tbody tr th:only-of-type {\n",
       "        vertical-align: middle;\n",
       "    }\n",
       "\n",
       "    .dataframe tbody tr th {\n",
       "        vertical-align: top;\n",
       "    }\n",
       "\n",
       "    .dataframe thead th {\n",
       "        text-align: right;\n",
       "    }\n",
       "</style>\n",
       "<table border=\"1\" class=\"dataframe\">\n",
       "  <thead>\n",
       "    <tr style=\"text-align: right;\">\n",
       "      <th></th>\n",
       "      <th>date</th>\n",
       "      <th>energy_produced</th>\n",
       "      <th>minute</th>\n",
       "      <th>hour</th>\n",
       "      <th>day</th>\n",
       "      <th>month</th>\n",
       "      <th>MSE</th>\n",
       "      <th>error_cutoff</th>\n",
       "      <th>anomaly</th>\n",
       "    </tr>\n",
       "  </thead>\n",
       "  <tbody>\n",
       "    <tr>\n",
       "      <th>20</th>\n",
       "      <td>2023-01-01 20:26:19+00:00</td>\n",
       "      <td>20597.548374</td>\n",
       "      <td>26</td>\n",
       "      <td>20</td>\n",
       "      <td>1</td>\n",
       "      <td>1</td>\n",
       "      <td>1.126402</td>\n",
       "      <td>82.569365</td>\n",
       "      <td>False</td>\n",
       "    </tr>\n",
       "    <tr>\n",
       "      <th>21</th>\n",
       "      <td>2023-01-01 20:41:42+00:00</td>\n",
       "      <td>20593.048374</td>\n",
       "      <td>41</td>\n",
       "      <td>20</td>\n",
       "      <td>1</td>\n",
       "      <td>1</td>\n",
       "      <td>1.304192</td>\n",
       "      <td>82.569365</td>\n",
       "      <td>False</td>\n",
       "    </tr>\n",
       "    <tr>\n",
       "      <th>22</th>\n",
       "      <td>2023-01-01 20:57:14+00:00</td>\n",
       "      <td>20593.048374</td>\n",
       "      <td>57</td>\n",
       "      <td>20</td>\n",
       "      <td>1</td>\n",
       "      <td>1</td>\n",
       "      <td>1.292085</td>\n",
       "      <td>82.569365</td>\n",
       "      <td>False</td>\n",
       "    </tr>\n",
       "    <tr>\n",
       "      <th>23</th>\n",
       "      <td>2023-01-01 21:12:56+00:00</td>\n",
       "      <td>20590.798374</td>\n",
       "      <td>12</td>\n",
       "      <td>21</td>\n",
       "      <td>1</td>\n",
       "      <td>1</td>\n",
       "      <td>1.117931</td>\n",
       "      <td>82.569365</td>\n",
       "      <td>False</td>\n",
       "    </tr>\n",
       "    <tr>\n",
       "      <th>24</th>\n",
       "      <td>2023-01-01 21:28:19+00:00</td>\n",
       "      <td>20620.048374</td>\n",
       "      <td>28</td>\n",
       "      <td>21</td>\n",
       "      <td>1</td>\n",
       "      <td>1</td>\n",
       "      <td>1.459725</td>\n",
       "      <td>82.569365</td>\n",
       "      <td>False</td>\n",
       "    </tr>\n",
       "    <tr>\n",
       "      <th>...</th>\n",
       "      <td>...</td>\n",
       "      <td>...</td>\n",
       "      <td>...</td>\n",
       "      <td>...</td>\n",
       "      <td>...</td>\n",
       "      <td>...</td>\n",
       "      <td>...</td>\n",
       "      <td>...</td>\n",
       "      <td>...</td>\n",
       "    </tr>\n",
       "    <tr>\n",
       "      <th>59309</th>\n",
       "      <td>2024-06-21 19:14:51+00:00</td>\n",
       "      <td>20575.048374</td>\n",
       "      <td>14</td>\n",
       "      <td>19</td>\n",
       "      <td>21</td>\n",
       "      <td>6</td>\n",
       "      <td>12.239384</td>\n",
       "      <td>82.569365</td>\n",
       "      <td>False</td>\n",
       "    </tr>\n",
       "    <tr>\n",
       "      <th>59310</th>\n",
       "      <td>2024-06-21 19:20:22+00:00</td>\n",
       "      <td>20577.298374</td>\n",
       "      <td>20</td>\n",
       "      <td>19</td>\n",
       "      <td>21</td>\n",
       "      <td>6</td>\n",
       "      <td>14.218336</td>\n",
       "      <td>82.569365</td>\n",
       "      <td>False</td>\n",
       "    </tr>\n",
       "    <tr>\n",
       "      <th>59311</th>\n",
       "      <td>2024-06-21 19:25:53+00:00</td>\n",
       "      <td>20577.298374</td>\n",
       "      <td>25</td>\n",
       "      <td>19</td>\n",
       "      <td>21</td>\n",
       "      <td>6</td>\n",
       "      <td>14.979162</td>\n",
       "      <td>82.569365</td>\n",
       "      <td>False</td>\n",
       "    </tr>\n",
       "    <tr>\n",
       "      <th>59312</th>\n",
       "      <td>2024-06-21 19:31:24+00:00</td>\n",
       "      <td>20577.298374</td>\n",
       "      <td>31</td>\n",
       "      <td>19</td>\n",
       "      <td>21</td>\n",
       "      <td>6</td>\n",
       "      <td>8.543080</td>\n",
       "      <td>82.569365</td>\n",
       "      <td>False</td>\n",
       "    </tr>\n",
       "    <tr>\n",
       "      <th>59313</th>\n",
       "      <td>2024-06-21 19:38:30+00:00</td>\n",
       "      <td>20597.548374</td>\n",
       "      <td>38</td>\n",
       "      <td>19</td>\n",
       "      <td>21</td>\n",
       "      <td>6</td>\n",
       "      <td>2.753454</td>\n",
       "      <td>82.569365</td>\n",
       "      <td>False</td>\n",
       "    </tr>\n",
       "  </tbody>\n",
       "</table>\n",
       "<p>59294 rows × 9 columns</p>\n",
       "</div>"
      ],
      "text/plain": [
       "                           date  energy_produced  minute  hour  day  month  \\\n",
       "20    2023-01-01 20:26:19+00:00     20597.548374      26    20    1      1   \n",
       "21    2023-01-01 20:41:42+00:00     20593.048374      41    20    1      1   \n",
       "22    2023-01-01 20:57:14+00:00     20593.048374      57    20    1      1   \n",
       "23    2023-01-01 21:12:56+00:00     20590.798374      12    21    1      1   \n",
       "24    2023-01-01 21:28:19+00:00     20620.048374      28    21    1      1   \n",
       "...                         ...              ...     ...   ...  ...    ...   \n",
       "59309 2024-06-21 19:14:51+00:00     20575.048374      14    19   21      6   \n",
       "59310 2024-06-21 19:20:22+00:00     20577.298374      20    19   21      6   \n",
       "59311 2024-06-21 19:25:53+00:00     20577.298374      25    19   21      6   \n",
       "59312 2024-06-21 19:31:24+00:00     20577.298374      31    19   21      6   \n",
       "59313 2024-06-21 19:38:30+00:00     20597.548374      38    19   21      6   \n",
       "\n",
       "             MSE  error_cutoff  anomaly  \n",
       "20      1.126402     82.569365    False  \n",
       "21      1.304192     82.569365    False  \n",
       "22      1.292085     82.569365    False  \n",
       "23      1.117931     82.569365    False  \n",
       "24      1.459725     82.569365    False  \n",
       "...          ...           ...      ...  \n",
       "59309  12.239384     82.569365    False  \n",
       "59310  14.218336     82.569365    False  \n",
       "59311  14.979162     82.569365    False  \n",
       "59312   8.543080     82.569365    False  \n",
       "59313   2.753454     82.569365    False  \n",
       "\n",
       "[59294 rows x 9 columns]"
      ]
     },
     "execution_count": 30,
     "metadata": {},
     "output_type": "execute_result"
    }
   ],
   "source": [
    "anomaly_df"
   ]
  },
  {
   "cell_type": "code",
   "execution_count": 31,
   "id": "1c564907-0e60-4a21-b2c9-c5b6ac59fbf8",
   "metadata": {},
   "outputs": [
    {
     "data": {
      "text/html": [
       "<div>\n",
       "<style scoped>\n",
       "    .dataframe tbody tr th:only-of-type {\n",
       "        vertical-align: middle;\n",
       "    }\n",
       "\n",
       "    .dataframe tbody tr th {\n",
       "        vertical-align: top;\n",
       "    }\n",
       "\n",
       "    .dataframe thead th {\n",
       "        text-align: right;\n",
       "    }\n",
       "</style>\n",
       "<table border=\"1\" class=\"dataframe\">\n",
       "  <thead>\n",
       "    <tr style=\"text-align: right;\">\n",
       "      <th></th>\n",
       "      <th>date</th>\n",
       "      <th>energy_produced</th>\n",
       "      <th>minute</th>\n",
       "      <th>hour</th>\n",
       "      <th>day</th>\n",
       "      <th>month</th>\n",
       "      <th>MSE</th>\n",
       "      <th>error_cutoff</th>\n",
       "      <th>anomaly</th>\n",
       "    </tr>\n",
       "  </thead>\n",
       "  <tbody>\n",
       "    <tr>\n",
       "      <th>2878</th>\n",
       "      <td>2023-03-06 16:50:58+00:00</td>\n",
       "      <td>20806.798374</td>\n",
       "      <td>50</td>\n",
       "      <td>16</td>\n",
       "      <td>6</td>\n",
       "      <td>3</td>\n",
       "      <td>96.711555</td>\n",
       "      <td>82.569365</td>\n",
       "      <td>True</td>\n",
       "    </tr>\n",
       "    <tr>\n",
       "      <th>2880</th>\n",
       "      <td>2023-03-06 17:20:41+00:00</td>\n",
       "      <td>20950.798374</td>\n",
       "      <td>20</td>\n",
       "      <td>17</td>\n",
       "      <td>6</td>\n",
       "      <td>3</td>\n",
       "      <td>88.581049</td>\n",
       "      <td>82.569365</td>\n",
       "      <td>True</td>\n",
       "    </tr>\n",
       "    <tr>\n",
       "      <th>5036</th>\n",
       "      <td>2023-03-27 01:56:25+00:00</td>\n",
       "      <td>20530.048374</td>\n",
       "      <td>56</td>\n",
       "      <td>1</td>\n",
       "      <td>27</td>\n",
       "      <td>3</td>\n",
       "      <td>85.068689</td>\n",
       "      <td>82.569365</td>\n",
       "      <td>True</td>\n",
       "    </tr>\n",
       "    <tr>\n",
       "      <th>5037</th>\n",
       "      <td>2023-03-27 02:03:52+00:00</td>\n",
       "      <td>20530.048374</td>\n",
       "      <td>3</td>\n",
       "      <td>2</td>\n",
       "      <td>27</td>\n",
       "      <td>3</td>\n",
       "      <td>93.522523</td>\n",
       "      <td>82.569365</td>\n",
       "      <td>True</td>\n",
       "    </tr>\n",
       "    <tr>\n",
       "      <th>5299</th>\n",
       "      <td>2023-03-29 01:55:47+00:00</td>\n",
       "      <td>20557.048374</td>\n",
       "      <td>55</td>\n",
       "      <td>1</td>\n",
       "      <td>29</td>\n",
       "      <td>3</td>\n",
       "      <td>90.713555</td>\n",
       "      <td>82.569365</td>\n",
       "      <td>True</td>\n",
       "    </tr>\n",
       "    <tr>\n",
       "      <th>...</th>\n",
       "      <td>...</td>\n",
       "      <td>...</td>\n",
       "      <td>...</td>\n",
       "      <td>...</td>\n",
       "      <td>...</td>\n",
       "      <td>...</td>\n",
       "      <td>...</td>\n",
       "      <td>...</td>\n",
       "      <td>...</td>\n",
       "    </tr>\n",
       "    <tr>\n",
       "      <th>57562</th>\n",
       "      <td>2024-06-05 03:27:06+00:00</td>\n",
       "      <td>20525.548374</td>\n",
       "      <td>27</td>\n",
       "      <td>3</td>\n",
       "      <td>5</td>\n",
       "      <td>6</td>\n",
       "      <td>83.151344</td>\n",
       "      <td>82.569365</td>\n",
       "      <td>True</td>\n",
       "    </tr>\n",
       "    <tr>\n",
       "      <th>58005</th>\n",
       "      <td>2024-06-10 02:58:51+00:00</td>\n",
       "      <td>20525.548374</td>\n",
       "      <td>58</td>\n",
       "      <td>2</td>\n",
       "      <td>10</td>\n",
       "      <td>6</td>\n",
       "      <td>87.126065</td>\n",
       "      <td>82.569365</td>\n",
       "      <td>True</td>\n",
       "    </tr>\n",
       "    <tr>\n",
       "      <th>58028</th>\n",
       "      <td>2024-06-10 03:30:23+00:00</td>\n",
       "      <td>20525.548374</td>\n",
       "      <td>30</td>\n",
       "      <td>3</td>\n",
       "      <td>10</td>\n",
       "      <td>6</td>\n",
       "      <td>90.999589</td>\n",
       "      <td>82.569365</td>\n",
       "      <td>True</td>\n",
       "    </tr>\n",
       "    <tr>\n",
       "      <th>58029</th>\n",
       "      <td>2024-06-10 12:59:55+00:00</td>\n",
       "      <td>20525.548374</td>\n",
       "      <td>59</td>\n",
       "      <td>12</td>\n",
       "      <td>10</td>\n",
       "      <td>6</td>\n",
       "      <td>90.537158</td>\n",
       "      <td>82.569365</td>\n",
       "      <td>True</td>\n",
       "    </tr>\n",
       "    <tr>\n",
       "      <th>58241</th>\n",
       "      <td>2024-06-12 03:02:55+00:00</td>\n",
       "      <td>20525.548374</td>\n",
       "      <td>2</td>\n",
       "      <td>3</td>\n",
       "      <td>12</td>\n",
       "      <td>6</td>\n",
       "      <td>101.518157</td>\n",
       "      <td>82.569365</td>\n",
       "      <td>True</td>\n",
       "    </tr>\n",
       "  </tbody>\n",
       "</table>\n",
       "<p>297 rows × 9 columns</p>\n",
       "</div>"
      ],
      "text/plain": [
       "                           date  energy_produced  minute  hour  day  month  \\\n",
       "2878  2023-03-06 16:50:58+00:00     20806.798374      50    16    6      3   \n",
       "2880  2023-03-06 17:20:41+00:00     20950.798374      20    17    6      3   \n",
       "5036  2023-03-27 01:56:25+00:00     20530.048374      56     1   27      3   \n",
       "5037  2023-03-27 02:03:52+00:00     20530.048374       3     2   27      3   \n",
       "5299  2023-03-29 01:55:47+00:00     20557.048374      55     1   29      3   \n",
       "...                         ...              ...     ...   ...  ...    ...   \n",
       "57562 2024-06-05 03:27:06+00:00     20525.548374      27     3    5      6   \n",
       "58005 2024-06-10 02:58:51+00:00     20525.548374      58     2   10      6   \n",
       "58028 2024-06-10 03:30:23+00:00     20525.548374      30     3   10      6   \n",
       "58029 2024-06-10 12:59:55+00:00     20525.548374      59    12   10      6   \n",
       "58241 2024-06-12 03:02:55+00:00     20525.548374       2     3   12      6   \n",
       "\n",
       "              MSE  error_cutoff  anomaly  \n",
       "2878    96.711555     82.569365     True  \n",
       "2880    88.581049     82.569365     True  \n",
       "5036    85.068689     82.569365     True  \n",
       "5037    93.522523     82.569365     True  \n",
       "5299    90.713555     82.569365     True  \n",
       "...           ...           ...      ...  \n",
       "57562   83.151344     82.569365     True  \n",
       "58005   87.126065     82.569365     True  \n",
       "58028   90.999589     82.569365     True  \n",
       "58029   90.537158     82.569365     True  \n",
       "58241  101.518157     82.569365     True  \n",
       "\n",
       "[297 rows x 9 columns]"
      ]
     },
     "execution_count": 31,
     "metadata": {},
     "output_type": "execute_result"
    }
   ],
   "source": [
    "anomaly"
   ]
  },
  {
   "cell_type": "code",
   "execution_count": 32,
   "id": "4cc8548c-2a5c-4e90-abd6-db840479a25e",
   "metadata": {},
   "outputs": [
    {
     "name": "stderr",
     "output_type": "stream",
     "text": [
      "C:\\Users\\adity\\anaconda3\\Lib\\site-packages\\seaborn\\_oldcore.py:1119: FutureWarning: use_inf_as_na option is deprecated and will be removed in a future version. Convert inf values to NaN before operating instead.\n",
      "  with pd.option_context('mode.use_inf_as_na', True):\n",
      "C:\\Users\\adity\\anaconda3\\Lib\\site-packages\\seaborn\\_oldcore.py:1119: FutureWarning: use_inf_as_na option is deprecated and will be removed in a future version. Convert inf values to NaN before operating instead.\n",
      "  with pd.option_context('mode.use_inf_as_na', True):\n"
     ]
    },
    {
     "data": {
      "text/plain": [
       "<Axes: xlabel='date', ylabel='energy_produced'>"
      ]
     },
     "execution_count": 32,
     "metadata": {},
     "output_type": "execute_result"
    },
    {
     "data": {
      "image/png": "[encoded data removed]",
      "text/plain": [
       "<Figure size 1200x600 with 1 Axes>"
      ]
     },
     "metadata": {},
     "output_type": "display_data"
    }
   ],
   "source": [
    "import seaborn as sns\n",
    "plt.figure(figsize=(12, 6))\n",
    "sns.lineplot(x=anomaly_df['date'], y=anomaly_df['energy_produced'])\n",
    "sns.scatterplot(x=anomaly['date'], y=anomaly['energy_produced'], color='r')"
   ]
  },
  {
   "cell_type": "code",
   "execution_count": null,
   "id": "fcb5b346-ec76-40d4-babc-70b8c599e8f5",
   "metadata": {},
   "outputs": [],
   "source": []
  }
 ],
 "metadata": {
  "kernelspec": {
   "display_name": "Python 3 (ipykernel)",
   "language": "python",
   "name": "python3"
  },
  "language_info": {
   "codemirror_mode": {
    "name": "ipython",
    "version": 3
   },
   "file_extension": ".py",
   "mimetype": "text/x-python",
   "name": "python",
   "nbconvert_exporter": "python",
   "pygments_lexer": "ipython3",
   "version": "3.11.7"
  }
 },
 "nbformat": 4,
 "nbformat_minor": 5
}
