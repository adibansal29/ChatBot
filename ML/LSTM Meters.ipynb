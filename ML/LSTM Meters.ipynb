{
 "cells": [
  {
   "cell_type": "code",
   "execution_count": 1,
   "id": "b1c423d9-6594-4d90-ae56-976dd2535887",
   "metadata": {},
   "outputs": [],
   "source": [
    "import pandas as pd\n",
    "df = pd.read_csv(\"C:\\\\Internship\\\\2264002\\\\Meters\\\\202103021197eim1_readings.csv\")"
   ]
  },
  {
   "cell_type": "code",
   "execution_count": 2,
   "id": "44c2a496-06a9-489f-bef7-8337cc3a239f",
   "metadata": {},
   "outputs": [],
   "source": [
    "df = df[['date','curr_w']]"
   ]
  },
  {
   "cell_type": "code",
   "execution_count": 3,
   "id": "29927690-aeb4-4dc3-ace6-3c94bc4c65f7",
   "metadata": {},
   "outputs": [],
   "source": [
    "from sklearn.preprocessing import StandardScaler\n",
    "scaler = StandardScaler()\n",
    "scaler.fit(df[['curr_w']])\n",
    "df['curr_w'] = scaler.transform(df[['curr_w']])"
   ]
  },
  {
   "cell_type": "code",
   "execution_count": 4,
   "id": "b30bc0d7-43f7-4826-9aa2-85f7012a535d",
   "metadata": {},
   "outputs": [],
   "source": [
    "def create_sequences(data, time_steps):\n",
    "    sequences = []\n",
    "    for i in range(len(data) - time_steps):\n",
    "        seq = data[i:i + time_steps]\n",
    "        sequences.append(seq)\n",
    "    return np.array(sequences)"
   ]
  },
  {
   "cell_type": "code",
   "execution_count": 5,
   "id": "eaecda65-009a-4eaf-b1a5-c63c5a60bd64",
   "metadata": {},
   "outputs": [],
   "source": [
    "import matplotlib.pyplot as plt\n",
    "features = df[['curr_w']].valuesplt.figure(figsize=(10, 6))\n",
    "plt.plot(y_test, label='Actual Sales')\n",
    "plt.plot(y_pred, label='Predicted Sales')\n",
    "plt.legend()\n",
    "plt.show()"
   ]
  },
  {
   "cell_type": "code",
   "execution_count": 6,
   "id": "b55bee21-07cc-4e5e-b670-ebc0a10537d4",
   "metadata": {},
   "outputs": [],
   "source": [
    "import numpy as np\n",
    "time_steps = 7\n",
    "X = create_sequences(features, time_steps)"
   ]
  },
  {
   "cell_type": "code",
   "execution_count": 7,
   "id": "7fe9e0f7-3413-4780-96b2-10999ea468a2",
   "metadata": {},
   "outputs": [
    {
     "data": {
      "text/plain": [
       "(103116, 30, 1)"
      ]
     },
     "execution_count": 7,
     "metadata": {},
     "output_type": "execute_result"
    }
   ],
   "source": [
    "X.shape"
   ]
  },
  {
   "cell_type": "code",
   "execution_count": 8,
   "id": "901008dd-1854-4ea5-bd3d-f388f1e6c5b3",
   "metadata": {},
   "outputs": [],
   "source": [
    "from keras.models import Model, Sequential\n",
    "from keras.layers import LSTM, RepeatVector, TimeDistributed, Dense, Input"
   ]
  },
  {
   "cell_type": "code",
   "execution_count": 1,
   "id": "436a0685-1f1d-451a-887a-45ad66169e72",
   "metadata": {},
   "outputs": [
    {
     "ename": "NameError",
     "evalue": "name 'Sequential' is not defined",
     "output_type": "error",
     "traceback": [
      "\u001b[1;31m---------------------------------------------------------------------------\u001b[0m",
      "\u001b[1;31mNameError\u001b[0m                                 Traceback (most recent call last)",
      "Cell \u001b[1;32mIn[1], line 1\u001b[0m\n\u001b[1;32m----> 1\u001b[0m model1 \u001b[38;5;241m=\u001b[39m Sequential([\n\u001b[0;32m      2\u001b[0m     Input(shape \u001b[38;5;241m=\u001b[39m (X\u001b[38;5;241m.\u001b[39mshape[\u001b[38;5;241m1\u001b[39m],X\u001b[38;5;241m.\u001b[39mshape[\u001b[38;5;241m2\u001b[39m])),\n\u001b[0;32m      3\u001b[0m     LSTM(\u001b[38;5;241m64\u001b[39m, activation\u001b[38;5;241m=\u001b[39m\u001b[38;5;124m'\u001b[39m\u001b[38;5;124mrelu\u001b[39m\u001b[38;5;124m'\u001b[39m, return_sequences\u001b[38;5;241m=\u001b[39m\u001b[38;5;28;01mTrue\u001b[39;00m),\n\u001b[0;32m      4\u001b[0m     LSTM(\u001b[38;5;241m32\u001b[39m, activation\u001b[38;5;241m=\u001b[39m\u001b[38;5;124m'\u001b[39m\u001b[38;5;124mrelu\u001b[39m\u001b[38;5;124m'\u001b[39m, return_sequences\u001b[38;5;241m=\u001b[39m\u001b[38;5;28;01mFalse\u001b[39;00m),\n\u001b[0;32m      5\u001b[0m     RepeatVector(time_steps),\n\u001b[0;32m      6\u001b[0m     LSTM(\u001b[38;5;241m32\u001b[39m, activation\u001b[38;5;241m=\u001b[39m\u001b[38;5;124m'\u001b[39m\u001b[38;5;124mrelu\u001b[39m\u001b[38;5;124m'\u001b[39m, return_sequences\u001b[38;5;241m=\u001b[39m\u001b[38;5;28;01mTrue\u001b[39;00m),\n\u001b[0;32m      7\u001b[0m     LSTM(\u001b[38;5;241m64\u001b[39m, activation\u001b[38;5;241m=\u001b[39m\u001b[38;5;124m'\u001b[39m\u001b[38;5;124mrelu\u001b[39m\u001b[38;5;124m'\u001b[39m, return_sequences\u001b[38;5;241m=\u001b[39m\u001b[38;5;28;01mFalse\u001b[39;00m),\n\u001b[0;32m      8\u001b[0m     TimeDistributed(Dense(X\u001b[38;5;241m.\u001b[39mshape[\u001b[38;5;241m2\u001b[39m]))\n\u001b[0;32m      9\u001b[0m ])\n",
      "\u001b[1;31mNameError\u001b[0m: name 'Sequential' is not defined"
     ]
    }
   ],
   "source": [
    "model1 = Sequential([\n",
    "    Input(shape = (X.shape[1],X.shape[2])),\n",
    "    LSTM(64, activation='relu', return_sequences=True),\n",
    "    LSTM(32, activation='relu', return_sequences=False),\n",
    "    RepeatVector(time_steps),\n",
    "    LSTM(32, activation='relu', return_sequences=True),\n",
    "    LSTM(64, activation='relu', return_sequences=False),\n",
    "    TimeDistributed(Dense(X.shape[2]))\n",
    "])"
   ]
  },
  {
   "cell_type": "code",
   "execution_count": 10,
   "id": "bf37f5d6-04a6-4961-9f23-36928d389ac1",
   "metadata": {},
   "outputs": [
    {
     "name": "stdout",
     "output_type": "stream",
     "text": [
      "Epoch 1/10\n",
      "\u001b[1m2901/2901\u001b[0m \u001b[32m━━━━━━━━━━━━━━━━━━━━\u001b[0m\u001b[37m\u001b[0m \u001b[1m296s\u001b[0m 91ms/step - loss: 0.1539 - val_loss: 0.0409\n",
      "Epoch 2/10\n",
      "\u001b[1m2901/2901\u001b[0m \u001b[32m━━━━━━━━━━━━━━━━━━━━\u001b[0m\u001b[37m\u001b[0m \u001b[1m292s\u001b[0m 101ms/step - loss: 0.0414 - val_loss: 0.0346\n",
      "Epoch 3/10\n",
      "\u001b[1m2901/2901\u001b[0m \u001b[32m━━━━━━━━━━━━━━━━━━━━\u001b[0m\u001b[37m\u001b[0m \u001b[1m300s\u001b[0m 103ms/step - loss: 0.0364 - val_loss: 0.0338\n",
      "Epoch 4/10\n",
      "\u001b[1m2901/2901\u001b[0m \u001b[32m━━━━━━━━━━━━━━━━━━━━\u001b[0m\u001b[37m\u001b[0m \u001b[1m298s\u001b[0m 103ms/step - loss: 0.0348 - val_loss: 0.0322\n",
      "Epoch 5/10\n",
      "\u001b[1m2901/2901\u001b[0m \u001b[32m━━━━━━━━━━━━━━━━━━━━\u001b[0m\u001b[37m\u001b[0m \u001b[1m189s\u001b[0m 65ms/step - loss: 0.0311 - val_loss: 0.0352\n",
      "Epoch 6/10\n",
      "\u001b[1m2901/2901\u001b[0m \u001b[32m━━━━━━━━━━━━━━━━━━━━\u001b[0m\u001b[37m\u001b[0m \u001b[1m199s\u001b[0m 69ms/step - loss: 0.0306 - val_loss: 0.0292\n",
      "Epoch 7/10\n",
      "\u001b[1m2901/2901\u001b[0m \u001b[32m━━━━━━━━━━━━━━━━━━━━\u001b[0m\u001b[37m\u001b[0m \u001b[1m216s\u001b[0m 74ms/step - loss: 0.0284 - val_loss: 0.0276\n",
      "Epoch 8/10\n",
      "\u001b[1m2901/2901\u001b[0m \u001b[32m━━━━━━━━━━━━━━━━━━━━\u001b[0m\u001b[37m\u001b[0m \u001b[1m215s\u001b[0m 74ms/step - loss: 0.0274 - val_loss: 0.0262\n",
      "Epoch 9/10\n",
      "\u001b[1m2901/2901\u001b[0m \u001b[32m━━━━━━━━━━━━━━━━━━━━\u001b[0m\u001b[37m\u001b[0m \u001b[1m202s\u001b[0m 70ms/step - loss: 0.0265 - val_loss: 0.0283\n",
      "Epoch 10/10\n",
      "\u001b[1m2901/2901\u001b[0m \u001b[32m━━━━━━━━━━━━━━━━━━━━\u001b[0m\u001b[37m\u001b[0m \u001b[1m210s\u001b[0m 72ms/step - loss: 0.0259 - val_loss: 0.0258\n"
     ]
    },
    {
     "data": {
      "text/plain": [
       "<keras.src.callbacks.history.History at 0x20bb3375910>"
      ]
     },
     "execution_count": 10,
     "metadata": {},
     "output_type": "execute_result"
    }
   ],
   "source": [
    "model1.compile(optimizer='adam', loss='mse')\n",
    "model1.fit(X, X, epochs=10, validation_split=0.1)"
   ]
  },
  {
   "cell_type": "code",
   "execution_count": 11,
   "id": "2dbadd99-c50e-46eb-b3d5-3a9c5de510a0",
   "metadata": {},
   "outputs": [
    {
     "data": {
      "text/plain": [
       "['C:\\\\Internship\\\\meter_scaler.pkl']"
      ]
     },
     "execution_count": 11,
     "metadata": {},
     "output_type": "execute_result"
    }
   ],
   "source": [
    "import joblib\n",
    "joblib.dump(model1, \"C:\\\\Internship\\\\meter_model.pkl\")\n",
    "joblib.dump(scaler, \"C:\\\\Internship\\\\meter_scaler.pkl\")"
   ]
  },
  {
   "cell_type": "code",
   "execution_count": 12,
   "id": "029a3860-11b4-45fb-8350-71a48b2834df",
   "metadata": {},
   "outputs": [
    {
     "name": "stdout",
     "output_type": "stream",
     "text": [
      "\u001b[1m3223/3223\u001b[0m \u001b[32m━━━━━━━━━━━━━━━━━━━━\u001b[0m\u001b[37m\u001b[0m \u001b[1m108s\u001b[0m 33ms/step\n"
     ]
    }
   ],
   "source": [
    "X_pred1 = model1.predict(X)"
   ]
  },
  {
   "cell_type": "code",
   "execution_count": 13,
   "id": "d65e695d-1e09-422c-94ad-d7b6b3cde9f2",
   "metadata": {},
   "outputs": [],
   "source": [
    "error1 = np.mean(np.square(X_pred1-X), axis = 1)"
   ]
  },
  {
   "cell_type": "code",
   "execution_count": 26,
   "id": "1c823a01-d478-426a-849b-ccb1120e6a57",
   "metadata": {},
   "outputs": [
    {
     "data": {
      "text/plain": [
       "(array([9.2122e+04, 4.2140e+03, 2.3360e+03, 1.2320e+03, 8.1700e+02,\n",
       "        5.1400e+02, 3.6100e+02, 2.5400e+02, 3.0500e+02, 2.8600e+02,\n",
       "        1.7600e+02, 1.2700e+02, 1.2300e+02, 6.9000e+01, 4.1000e+01,\n",
       "        2.7000e+01, 1.4000e+01, 6.0000e+00, 1.3000e+01, 9.0000e+00,\n",
       "        5.0000e+00, 9.0000e+00, 1.5000e+01, 1.6000e+01, 7.0000e+00,\n",
       "        8.0000e+00, 4.0000e+00, 0.0000e+00, 3.0000e+00, 3.0000e+00]),\n",
       " array([3.88894067e-05, 4.90235111e-02, 9.80081328e-02, 1.46992755e-01,\n",
       "        1.95977376e-01, 2.44961998e-01, 2.93946620e-01, 3.42931241e-01,\n",
       "        3.91915863e-01, 4.40900485e-01, 4.89885106e-01, 5.38869728e-01,\n",
       "        5.87854350e-01, 6.36838972e-01, 6.85823593e-01, 7.34808215e-01,\n",
       "        7.83792837e-01, 8.32777458e-01, 8.81762080e-01, 9.30746702e-01,\n",
       "        9.79731323e-01, 1.02871595e+00, 1.07770057e+00, 1.12668519e+00,\n",
       "        1.17566981e+00, 1.22465443e+00, 1.27363905e+00, 1.32262368e+00,\n",
       "        1.37160830e+00, 1.42059292e+00, 1.46957754e+00]),\n",
       " <BarContainer object of 30 artists>)"
      ]
     },
     "execution_count": 26,
     "metadata": {},
     "output_type": "execute_result"
    },
    {
     "data": {
      "image/png": "[encoded data removed]",
      "text/plain": [
       "<Figure size 640x480 with 1 Axes>"
      ]
     },
     "metadata": {},
     "output_type": "display_data"
    }
   ],
   "source": [
    "from matplotlib import pyplot as plt\n",
    "plt.hist(error1, bins=30)"
   ]
  },
  {
   "cell_type": "code",
   "execution_count": 18,
   "id": "688b100a-4ddc-4a71-b028-43d5966974fe",
   "metadata": {},
   "outputs": [],
   "source": [
    "anomaly_df = pd.DataFrame(df[time_steps:])"
   ]
  },
  {
   "cell_type": "code",
   "execution_count": 27,
   "id": "34f45f12-ff95-4d46-9406-74dca291348d",
   "metadata": {},
   "outputs": [
    {
     "data": {
      "text/plain": [
       "['C:\\\\Internship\\\\meter_cutoff.pkl']"
      ]
     },
     "execution_count": 27,
     "metadata": {},
     "output_type": "execute_result"
    }
   ],
   "source": [
    "joblib.dump(border1, \"C:\\\\Internship\\\\meter_cutoff.pkl\")"
   ]
  },
  {
   "cell_type": "code",
   "execution_count": 19,
   "id": "c7f6fbd3-e8aa-420d-806e-1fe4ad52c5ac",
   "metadata": {},
   "outputs": [],
   "source": [
    "anomaly_df['MSE1'] = error1\n",
    "border1 = np.percentile(error1,99.5)\n",
    "anomaly_df['error_cutoff1'] = border1\n",
    "anomaly_df['anomaly1'] = anomaly_df['MSE1'] > anomaly_df['error_cutoff1']\n",
    "anomaly_df['curr_w'] = scaler.inverse_transform(anomaly_df[['curr_w']])"
   ]
  },
  {
   "cell_type": "code",
   "execution_count": 20,
   "id": "eab76b8d-2691-468a-b1ea-61a1cf686fc8",
   "metadata": {},
   "outputs": [
    {
     "data": {
      "text/html": [
       "<div>\n",
       "<style scoped>\n",
       "    .dataframe tbody tr th:only-of-type {\n",
       "        vertical-align: middle;\n",
       "    }\n",
       "\n",
       "    .dataframe tbody tr th {\n",
       "        vertical-align: top;\n",
       "    }\n",
       "\n",
       "    .dataframe thead th {\n",
       "        text-align: right;\n",
       "    }\n",
       "</style>\n",
       "<table border=\"1\" class=\"dataframe\">\n",
       "  <thead>\n",
       "    <tr style=\"text-align: right;\">\n",
       "      <th></th>\n",
       "      <th>date</th>\n",
       "      <th>curr_w</th>\n",
       "      <th>MSE1</th>\n",
       "      <th>error_cutoff1</th>\n",
       "      <th>anomaly1</th>\n",
       "    </tr>\n",
       "  </thead>\n",
       "  <tbody>\n",
       "    <tr>\n",
       "      <th>30</th>\n",
       "      <td>2023-01-01 07:45:00 -0800</td>\n",
       "      <td>0.0</td>\n",
       "      <td>0.000042</td>\n",
       "      <td>0.531637</td>\n",
       "      <td>False</td>\n",
       "    </tr>\n",
       "    <tr>\n",
       "      <th>31</th>\n",
       "      <td>2023-01-01 08:00:00 -0800</td>\n",
       "      <td>4.0</td>\n",
       "      <td>0.000042</td>\n",
       "      <td>0.531637</td>\n",
       "      <td>False</td>\n",
       "    </tr>\n",
       "    <tr>\n",
       "      <th>32</th>\n",
       "      <td>2023-01-01 08:15:00 -0800</td>\n",
       "      <td>15.0</td>\n",
       "      <td>0.000045</td>\n",
       "      <td>0.531637</td>\n",
       "      <td>False</td>\n",
       "    </tr>\n",
       "    <tr>\n",
       "      <th>33</th>\n",
       "      <td>2023-01-01 08:30:00 -0800</td>\n",
       "      <td>24.0</td>\n",
       "      <td>0.000079</td>\n",
       "      <td>0.531637</td>\n",
       "      <td>False</td>\n",
       "    </tr>\n",
       "    <tr>\n",
       "      <th>34</th>\n",
       "      <td>2023-01-01 08:45:00 -0800</td>\n",
       "      <td>26.0</td>\n",
       "      <td>0.000086</td>\n",
       "      <td>0.531637</td>\n",
       "      <td>False</td>\n",
       "    </tr>\n",
       "    <tr>\n",
       "      <th>...</th>\n",
       "      <td>...</td>\n",
       "      <td>...</td>\n",
       "      <td>...</td>\n",
       "      <td>...</td>\n",
       "      <td>...</td>\n",
       "    </tr>\n",
       "    <tr>\n",
       "      <th>103141</th>\n",
       "      <td>2024-06-21 12:30:00 -0700</td>\n",
       "      <td>703.0</td>\n",
       "      <td>0.008213</td>\n",
       "      <td>0.531637</td>\n",
       "      <td>False</td>\n",
       "    </tr>\n",
       "    <tr>\n",
       "      <th>103142</th>\n",
       "      <td>2024-06-21 12:45:00 -0700</td>\n",
       "      <td>739.0</td>\n",
       "      <td>0.008595</td>\n",
       "      <td>0.531637</td>\n",
       "      <td>False</td>\n",
       "    </tr>\n",
       "    <tr>\n",
       "      <th>103143</th>\n",
       "      <td>2024-06-21 13:00:00 -0700</td>\n",
       "      <td>758.0</td>\n",
       "      <td>0.009013</td>\n",
       "      <td>0.531637</td>\n",
       "      <td>False</td>\n",
       "    </tr>\n",
       "    <tr>\n",
       "      <th>103144</th>\n",
       "      <td>2024-06-21 13:15:00 -0700</td>\n",
       "      <td>805.0</td>\n",
       "      <td>0.009203</td>\n",
       "      <td>0.531637</td>\n",
       "      <td>False</td>\n",
       "    </tr>\n",
       "    <tr>\n",
       "      <th>103145</th>\n",
       "      <td>2024-06-21 13:30:00 -0700</td>\n",
       "      <td>843.0</td>\n",
       "      <td>0.009525</td>\n",
       "      <td>0.531637</td>\n",
       "      <td>False</td>\n",
       "    </tr>\n",
       "  </tbody>\n",
       "</table>\n",
       "<p>103116 rows × 5 columns</p>\n",
       "</div>"
      ],
      "text/plain": [
       "                             date  curr_w      MSE1  error_cutoff1  anomaly1\n",
       "30      2023-01-01 07:45:00 -0800     0.0  0.000042       0.531637     False\n",
       "31      2023-01-01 08:00:00 -0800     4.0  0.000042       0.531637     False\n",
       "32      2023-01-01 08:15:00 -0800    15.0  0.000045       0.531637     False\n",
       "33      2023-01-01 08:30:00 -0800    24.0  0.000079       0.531637     False\n",
       "34      2023-01-01 08:45:00 -0800    26.0  0.000086       0.531637     False\n",
       "...                           ...     ...       ...            ...       ...\n",
       "103141  2024-06-21 12:30:00 -0700   703.0  0.008213       0.531637     False\n",
       "103142  2024-06-21 12:45:00 -0700   739.0  0.008595       0.531637     False\n",
       "103143  2024-06-21 13:00:00 -0700   758.0  0.009013       0.531637     False\n",
       "103144  2024-06-21 13:15:00 -0700   805.0  0.009203       0.531637     False\n",
       "103145  2024-06-21 13:30:00 -0700   843.0  0.009525       0.531637     False\n",
       "\n",
       "[103116 rows x 5 columns]"
      ]
     },
     "execution_count": 20,
     "metadata": {},
     "output_type": "execute_result"
    }
   ],
   "source": [
    "anomaly_df"
   ]
  },
  {
   "cell_type": "code",
   "execution_count": 21,
   "id": "a33f24a2-fb4f-4ba4-a864-8a1ee7eb33e5",
   "metadata": {},
   "outputs": [],
   "source": [
    "anomaly1 = anomaly_df.loc[anomaly_df['anomaly1'] == True]"
   ]
  },
  {
   "cell_type": "code",
   "execution_count": 59,
   "id": "8440cf59-f79b-4e7f-a304-ecfdcbf3039e",
   "metadata": {},
   "outputs": [
    {
     "name": "stderr",
     "output_type": "stream",
     "text": [
      "C:\\Users\\adity\\AppData\\Local\\Temp\\ipykernel_33340\\1891253063.py:2: SettingWithCopyWarning: \n",
      "A value is trying to be set on a copy of a slice from a DataFrame\n",
      "\n",
      "See the caveats in the documentation: https://pandas.pydata.org/pandas-docs/stable/user_guide/indexing.html#returning-a-view-versus-a-copy\n",
      "  anomaly1.replace([np.inf, -np.inf], np.nan, inplace=True)\n",
      "C:\\Users\\adity\\AppData\\Local\\Temp\\ipykernel_33340\\1891253063.py:3: SettingWithCopyWarning: \n",
      "A value is trying to be set on a copy of a slice from a DataFrame\n",
      "\n",
      "See the caveats in the documentation: https://pandas.pydata.org/pandas-docs/stable/user_guide/indexing.html#returning-a-view-versus-a-copy\n",
      "  anomaly2.replace([np.inf, -np.inf], np.nan, inplace=True)\n"
     ]
    }
   ],
   "source": [
    "anomaly_df.replace([np.inf, -np.inf], np.nan, inplace=True)\n",
    "anomaly1.replace([np.inf, -np.inf], np.nan, inplace=True)"
   ]
  },
  {
   "cell_type": "code",
   "execution_count": 24,
   "id": "31c545ff-3ba8-4503-9e0e-1c8931ad0f9f",
   "metadata": {},
   "outputs": [],
   "source": [
    "import seaborn as sns"
   ]
  },
  {
   "cell_type": "code",
   "execution_count": 25,
   "id": "6745a757-1f3c-4ac9-82a5-4edfb06ba154",
   "metadata": {},
   "outputs": [
    {
     "name": "stderr",
     "output_type": "stream",
     "text": [
      "C:\\Users\\adity\\anaconda3\\Lib\\site-packages\\seaborn\\_oldcore.py:1119: FutureWarning: use_inf_as_na option is deprecated and will be removed in a future version. Convert inf values to NaN before operating instead.\n",
      "  with pd.option_context('mode.use_inf_as_na', True):\n",
      "C:\\Users\\adity\\anaconda3\\Lib\\site-packages\\seaborn\\_oldcore.py:1119: FutureWarning: use_inf_as_na option is deprecated and will be removed in a future version. Convert inf values to NaN before operating instead.\n",
      "  with pd.option_context('mode.use_inf_as_na', True):\n"
     ]
    },
    {
     "data": {
      "text/plain": [
       "<Axes: xlabel='date', ylabel='curr_w'>"
      ]
     },
     "execution_count": 25,
     "metadata": {},
     "output_type": "execute_result"
    },
    {
     "data": {
      "image/png": "[encoded data removed]",
      "text/plain": [
       "<Figure size 1200x600 with 1 Axes>"
      ]
     },
     "metadata": {},
     "output_type": "display_data"
    }
   ],
   "source": [
    "plt.figure(figsize=(12, 6))\n",
    "sns.lineplot(x=anomaly_df['date'].iloc[:100], y=anomaly_df['curr_w'].iloc[:100])\n",
    "sns.scatterplot(x=anomaly1['date'], y=anomaly1['curr_w'], color='orange')"
   ]
  },
  {
   "cell_type": "code",
   "execution_count": null,
   "id": "4619dd84-4f8b-4a36-9fcc-f0fae0c8c4e1",
   "metadata": {},
   "outputs": [],
   "source": []
  }
 ],
 "metadata": {
  "kernelspec": {
   "display_name": "Python 3 (ipykernel)",
   "language": "python",
   "name": "python3"
  },
  "language_info": {
   "codemirror_mode": {
    "name": "ipython",
    "version": 3
   },
   "file_extension": ".py",
   "mimetype": "text/x-python",
   "name": "python",
   "nbconvert_exporter": "python",
   "pygments_lexer": "ipython3",
   "version": "3.11.7"
  }
 },
 "nbformat": 4,
 "nbformat_minor": 5
}
