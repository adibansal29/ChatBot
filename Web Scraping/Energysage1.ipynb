{
 "cells": [
  {
   "cell_type": "code",
   "execution_count": 2,
   "id": "11b49e29",
   "metadata": {},
   "outputs": [],
   "source": [
    "import requests\n",
    "from bs4 import BeautifulSoup"
   ]
  },
  {
   "cell_type": "code",
   "execution_count": 3,
   "id": "244e02f8",
   "metadata": {},
   "outputs": [],
   "source": [
    "req=requests.get('https://www.energysage.com/')\n",
    "soup=BeautifulSoup(req.content,'lxml')"
   ]
  },
  {
   "cell_type": "code",
   "execution_count": 4,
   "id": "8f2867ac",
   "metadata": {},
   "outputs": [],
   "source": [
    "dropdown=soup.find_all('a',href=True)"
   ]
  },
  {
   "cell_type": "code",
   "execution_count": 5,
   "id": "ac94ecf8",
   "metadata": {},
   "outputs": [],
   "source": [
    "links_lst=[]"
   ]
  },
  {
   "cell_type": "code",
   "execution_count": 6,
   "id": "eae275e1",
   "metadata": {},
   "outputs": [],
   "source": [
    "for a in dropdown:\n",
    "    link=a['href']\n",
    "    if len(link)>7:\n",
    "        links_lst.append(link)"
   ]
  },
  {
   "cell_type": "code",
   "execution_count": 21,
   "id": "f0edbaa0",
   "metadata": {},
   "outputs": [],
   "source": [
    "final_lst=[]\n",
    "for i in one_more_lst:\n",
    "    response=requests.get(i)\n",
    "    soup=BeautifulSoup(response.content,'lxml')\n",
    "    content=soup.find_all('div',class_='storyblok-rich-text')\n",
    "    if len(content)!=0:\n",
    "        \n",
    "        name=i.replace('https://www.','-')\n",
    "        name=name.replace('/','-')[12:]+'.txt'\n",
    "        final_lst.append(name)\n",
    "    \n",
    "        with open(name,'w') as file1:\n",
    "    \n",
    "            for abc in content:\n",
    "                file1.write(abc.get_text())\n",
    "                file1.write('\\n')\n",
    "                file1.write('\\n')\n",
    "            file1.close()"
   ]
  },
  {
   "cell_type": "code",
   "execution_count": 7,
   "id": "0b4fc522",
   "metadata": {},
   "outputs": [],
   "source": [
    "for abc in links_lst:\n",
    "    if len(abc)<8:\n",
    "        links_lst.remove(abc)"
   ]
  },
  {
   "cell_type": "code",
   "execution_count": 9,
   "id": "925224e2",
   "metadata": {},
   "outputs": [
    {
     "name": "stdout",
     "output_type": "stream",
     "text": [
      "['https://www.energysage.com/solar/', 'https://www.energysage.com/community-solar/', 'https://www.energysage.com/solar/best-solar-panels-complete-ranking/', 'https://www.energysage.com/local-data/solar-panel-cost/', 'https://www.energysage.com/energy-storage/', 'https://www.energysage.com/energy-storage/best-home-batteries/', 'https://www.energysage.com/energy-storage/battery-backup-power-vs-generators-which-is-right-for-you/', 'https://www.energysage.com/heat-pumps/', 'https://www.energysage.com/heat-pumps/costs-and-benefits-air-source-heat-pumps/', 'https://www.energysage.com/heat-pumps/how-do-heat-pumps-work/', 'https://www.energysage.com/ev-charging/', 'https://www.energysage.com/electric-vehicles/', 'https://www.energysage.com/ev-charging/ev-charging-stations/', 'https://www.energysage.com/ev-charging/electric-vehicle-charging-cost/', 'https://www.energysage.com/electricity/', 'https://www.energysage.com/energy-management/', 'https://www.energysage.com/energy-efficiency/', 'https://www.energysage.com/energy-products/', 'https://www.energysage.com/business-solutions/commercial-solar-benefits/', 'https://www.energysage.com/business-solutions/solar-nonprofit-benefits-financing/', 'https://www.energysage.com/business-solutions/energy-storage-for-businesses/', 'https://www.energysage.com/solar/how-to-pay-for-solar/', 'https://www.energysage.com/solar/solar-loans/', 'https://www.energysage.com/solar/solar-leases/', 'https://www.energysage.com/shop/clean-energy-savings-and-tax-incentives/', 'https://www.energysage.com/blog/', 'https://www.energysage.com/blog/', 'https://www.energysage.com/energy-storage/tesla-powerwall-how-much-home-can-you-run-on-it-for-how-long/', 'https://www.energysage.com/solar/solar-panel-efficiency-cost-over-time/', 'https://www.energysage.com/blog/', 'https://www.energysage.com/solar/are-solar-panels-worth-it/', 'https://www.energysage.com/solar/calculator/', 'https://www.energysage.com/about-us/company/', 'https://www.energysage.com/shop/home-solar/', 'https://www.energysage.com/about-us/team/', 'https://www.energysage.com/energy-advisors/', 'https://www.energysage.com/about-us/careers/', 'https://www.energysage.com/data/', 'https://www.energysage.com/editorial-guidelines/', 'https://www.energysage.com/press/', 'https://www.energysage.com/installers/', 'https://www.energysage.com/partners/corporations', 'https://www.energysage.com/partners/non-profits', 'https://www.energysage.com/partners/utilities', 'https://www.energysage.com/partners/', 'https://www.energysage.com/press/energysage-marketplace-intel-report-18', 'https://www.energysage.com/profile/', 'https://www.energysage.com/your-marketplace/', 'https://www.energysage.com/message/', 'https://www.energysage.com/market/solarpv/update/', 'https://www.energysage.com/account-settings/router/', 'https://www.energysage.com/market-process/', 'https://www.energysage.com/share-your-experience/', 'https://www.energysage.com/logout/', 'https://www.energysage.com/login/', 'https://accounts.energysage.com/register/?next=https://www.energysage.com/register-thanks/', 'https://www.energysage.com/shop/home-solar/', 'https://www.energysage.com/shop/home-solar/', 'https://www.energysage.com/shop/home-solar/', 'https://www.energysage.com/shop/home-solar/', 'https://www.energysage.com/solar/', 'https://www.energysage.com/solar/calculator/', 'https://www.energysage.com/supplier/search?selected_facets=services:installers&selected_facets=technology_types:Solar%20PV', 'https://www.energysage.com/solar/financing/loan-providers/', 'https://www.energysage.com/promotions/', 'https://www.energysage.com/solar-panels/', 'https://www.energysage.com/solar-inverters/', 'https://www.energysage.com/local-data/solar-rebates-incentives/', 'https://www.energysage.com/energy-storage/', 'https://www.energysage.com/market/start/', 'https://www.energysage.com/shop/home-solar/', 'https://www.energysage.com/shop/community-solar/', 'https://www.energysage.com/shop/community-solar/', 'https://www.energysage.com/community-solar/', 'https://communitysolar.energysage.com/projects', 'https://www.energysage.com/shop/community-solar/', 'https://www.energysage.com/local-data/solar-panel-cost/', 'https://www.energysage.com/shop/community-solar/', 'https://www.energysage.com/shop/community-solar/', 'https://www.energysage.com/community-solar/', 'https://communitysolar.energysage.com/projects', 'https://www.energysage.com/shop/heat-pumps/', 'https://www.energysage.com/shop/heat-pumps/', 'https://www.energysage.com/heat-pumps/', 'https://www.energysage.com/heat-pumps/heat-pump-incentives/', 'https://www.energysage.com/shop/heat-pumps/', 'https://www.energysage.com/energy-storage/', 'https://www.energysage.com/energy-storage/', 'https://www.energysage.com/energy-storage/', 'https://www.energysage.com/energy-storage/benefits-of-storage/energy-storage-incentives/', 'https://www.energysage.com/solar-batteries/', 'https://www.energysage.com/market/start/', 'https://www.energysage.com/ev-charging/', 'https://www.energysage.com/ev-charging/', 'https://www.energysage.com/ev-charging/', 'https://www.energysage.com/electric-vehicles/', 'https://shop.energysage.com/', 'https://www.energysage.com/businesses/', 'https://www.energysage.com/businesses/', 'https://www.energysage.com/business-solutions/commercial-solar-benefits/', 'https://www.energysage.com/business-solutions/solar-nonprofit-benefits-financing/', 'https://www.energysage.com/business-solutions/energy-storage-for-businesses/', 'https://www.energysage.com/profile/', 'https://www.energysage.com/your-marketplace/', 'https://www.energysage.com/message/', 'https://www.energysage.com/market/solarpv/update/', 'https://www.energysage.com/account-settings/router/', 'https://www.energysage.com/market-process/', 'https://www.energysage.com/share-your-experience/', 'https://www.energysage.com/logout/', 'https://www.energysage.com/login/', 'https://accounts.energysage.com/register/?next=https://www.energysage.com/register-thanks/', 'https://www.energysage.com/profile/', 'https://www.energysage.com/your-marketplace/', 'https://www.energysage.com/message/', 'https://www.energysage.com/market/solarpv/update/', 'https://www.energysage.com/account-settings/router/', 'https://www.energysage.com/market-process/', 'https://www.energysage.com/share-your-experience/', 'https://www.energysage.com/logout/', 'https://www.energysage.com/login/', 'https://accounts.energysage.com/register/?next=https://www.energysage.com/register-thanks/', 'https://www.energysage.com/privacy-policy', 'https://www.energysage.com/shop/home-solar/', 'https://www.energysage.com/shop/community-solar/', 'https://www.energysage.com/shop/heat-pumps/', 'https://www.energysage.com/energy-storage/', 'https://shop.energysage.com/', 'https://www.energysage.com/businesses/', '/energy-management/the-best-smart-panel/', '/energy-management/the-best-smart-panel/', '/authors/liam-mccabe/', '/solar/what-are-the-most-efficient-solar-panels-on-the-market/', '/authors/emily-walker/', '/solar/how-to-go-solar/', '/authors/emily-walker/', '/authors/spencer-fields/', '/local-data/solar-rebates-incentives/', '/authors/emily-walker/', '/heat-pumps/heat-pump-vs-ac/', '/authors/liam-mccabe/', 'https://www.energysage.com/shop/clean-energy-savings-and-tax-incentives/', 'https://www.energysage.com/privacy-policy', 'https://www.energysage.com/local-data/solar-companies/ca/', 'https://www.energysage.com/market/start/', 'https://www.energysage.com/supplier/21398/solar-optimum/', 'https://www.energysage.com/supplier/24058/future-energy/', 'https://www.energysage.com/supplier/26285/integratesun-llc/', 'https://www.energysage.com/supplier/20701/nrg-clean-power/', 'https://www.energysage.com/supplier/21169/green-conception-inc/', 'https://www.energysage.com/supplier/26085/sunergy/', 'https://www.energysage.com/supplier/21398/solar-optimum/', 'https://www.energysage.com/supplier/24058/future-energy/', 'https://www.energysage.com/supplier/26285/integratesun-llc/', 'https://www.energysage.com/supplier/20701/nrg-clean-power/', 'https://www.energysage.com/supplier/21169/green-conception-inc/', 'https://www.energysage.com/supplier/26085/sunergy/', 'https://www.energysage.com/market/start/', 'https://www.energysage.com/local-data/solar-companies/ca/', 'https://www.energysage.com/solar/', 'https://www.energysage.com/market/start/', 'https://www.energysage.com/heat-pumps/', 'https://heatpumps.energysage.com/', 'https://www.energysage.com/community-solar/', 'https://communitysolar.energysage.com/projects', 'https://www.energysage.com/solar/', 'https://www.energysage.com/market/start/', 'https://www.energysage.com/heat-pumps/', 'https://heatpumps.energysage.com/', 'https://www.energysage.com/community-solar/', 'https://communitysolar.energysage.com/projects', 'https://www.energysage.com/about-us/company/', 'https://www.energysage.com/shop/home-solar/', 'https://www.energysage.com/shop/community-solar/', 'https://www.energysage.com/shop/heat-pumps/', 'https://www.energysage.com/energy-storage/', 'https://www.energysage.com/ev-charging/', 'https://www.energysage.com/businesses/', 'https://www.energysage.com/other-clean-options/', 'https://www.energysage.com/solar/calculator/', 'https://www.energysage.com/market/equipment-rebates/', 'https://www.energysage.com/blog/', 'https://help.energysage.com', 'https://www.energysage.com/shop/home-solar/']\n",
      "184\n"
     ]
    }
   ],
   "source": [
    "links_lst=links_lst[:-11]\n",
    "print(links_lst)\n",
    "print(len(links_lst))\n"
   ]
  },
  {
   "cell_type": "code",
   "execution_count": 16,
   "id": "dd0d0c5b-46f9-4ca5-9f02-58c08e68e039",
   "metadata": {},
   "outputs": [
    {
     "name": "stdout",
     "output_type": "stream",
     "text": [
      "['https://www.energysage.com/solar/', 'https://www.energysage.com/community-solar/', 'https://www.energysage.com/solar/best-solar-panels-complete-ranking/', 'https://www.energysage.com/local-data/solar-panel-cost/', 'https://www.energysage.com/energy-storage/', 'https://www.energysage.com/energy-storage/best-home-batteries/', 'https://www.energysage.com/energy-storage/battery-backup-power-vs-generators-which-is-right-for-you/', 'https://www.energysage.com/heat-pumps/', 'https://www.energysage.com/heat-pumps/costs-and-benefits-air-source-heat-pumps/', 'https://www.energysage.com/heat-pumps/how-do-heat-pumps-work/', 'https://www.energysage.com/ev-charging/', 'https://www.energysage.com/electric-vehicles/', 'https://www.energysage.com/ev-charging/ev-charging-stations/', 'https://www.energysage.com/ev-charging/electric-vehicle-charging-cost/', 'https://www.energysage.com/electricity/', 'https://www.energysage.com/energy-management/', 'https://www.energysage.com/energy-efficiency/', 'https://www.energysage.com/energy-products/', 'https://www.energysage.com/business-solutions/commercial-solar-benefits/', 'https://www.energysage.com/business-solutions/solar-nonprofit-benefits-financing/', 'https://www.energysage.com/business-solutions/energy-storage-for-businesses/', 'https://www.energysage.com/solar/how-to-pay-for-solar/', 'https://www.energysage.com/solar/solar-loans/', 'https://www.energysage.com/solar/solar-leases/', 'https://www.energysage.com/shop/clean-energy-savings-and-tax-incentives/', 'https://www.energysage.com/blog/', 'https://www.energysage.com/blog/', 'https://www.energysage.com/energy-storage/tesla-powerwall-how-much-home-can-you-run-on-it-for-how-long/', 'https://www.energysage.com/solar/solar-panel-efficiency-cost-over-time/', 'https://www.energysage.com/blog/', 'https://www.energysage.com/solar/are-solar-panels-worth-it/', 'https://www.energysage.com/solar/calculator/', 'https://www.energysage.com/about-us/company/', 'https://www.energysage.com/shop/home-solar/', 'https://www.energysage.com/about-us/team/', 'https://www.energysage.com/energy-advisors/', 'https://www.energysage.com/about-us/careers/', 'https://www.energysage.com/data/', 'https://www.energysage.com/editorial-guidelines/', 'https://www.energysage.com/press/', 'https://www.energysage.com/installers/', 'https://www.energysage.com/partners/corporations', 'https://www.energysage.com/partners/non-profits', 'https://www.energysage.com/partners/utilities', 'https://www.energysage.com/partners/', 'https://www.energysage.com/press/energysage-marketplace-intel-report-18', 'https://www.energysage.com/profile/', 'https://www.energysage.com/your-marketplace/', 'https://www.energysage.com/message/', 'https://www.energysage.com/market/solarpv/update/', 'https://www.energysage.com/account-settings/router/', 'https://www.energysage.com/market-process/', 'https://www.energysage.com/share-your-experience/', 'https://www.energysage.com/logout/', 'https://www.energysage.com/login/', 'https://accounts.energysage.com/register/?next=https://www.energysage.com/register-thanks/', 'https://www.energysage.com/shop/home-solar/', 'https://www.energysage.com/shop/home-solar/', 'https://www.energysage.com/shop/home-solar/', 'https://www.energysage.com/shop/home-solar/', 'https://www.energysage.com/solar/', 'https://www.energysage.com/solar/calculator/', 'https://www.energysage.com/supplier/search?selected_facets=services:installers&selected_facets=technology_types:Solar%20PV', 'https://www.energysage.com/solar/financing/loan-providers/', 'https://www.energysage.com/promotions/', 'https://www.energysage.com/solar-panels/', 'https://www.energysage.com/solar-inverters/', 'https://www.energysage.com/local-data/solar-rebates-incentives/', 'https://www.energysage.com/energy-storage/', 'https://www.energysage.com/market/start/', 'https://www.energysage.com/shop/home-solar/', 'https://www.energysage.com/shop/community-solar/', 'https://www.energysage.com/shop/community-solar/', 'https://www.energysage.com/community-solar/', 'https://communitysolar.energysage.com/projects', 'https://www.energysage.com/shop/community-solar/', 'https://www.energysage.com/local-data/solar-panel-cost/', 'https://www.energysage.com/shop/community-solar/', 'https://www.energysage.com/shop/community-solar/', 'https://www.energysage.com/community-solar/', 'https://communitysolar.energysage.com/projects', 'https://www.energysage.com/shop/heat-pumps/', 'https://www.energysage.com/shop/heat-pumps/', 'https://www.energysage.com/heat-pumps/', 'https://www.energysage.com/heat-pumps/heat-pump-incentives/', 'https://www.energysage.com/shop/heat-pumps/', 'https://www.energysage.com/energy-storage/', 'https://www.energysage.com/energy-storage/', 'https://www.energysage.com/energy-storage/', 'https://www.energysage.com/energy-storage/benefits-of-storage/energy-storage-incentives/', 'https://www.energysage.com/solar-batteries/', 'https://www.energysage.com/market/start/', 'https://www.energysage.com/ev-charging/', 'https://www.energysage.com/ev-charging/', 'https://www.energysage.com/ev-charging/', 'https://www.energysage.com/electric-vehicles/', 'https://shop.energysage.com/', 'https://www.energysage.com/businesses/', 'https://www.energysage.com/businesses/', 'https://www.energysage.com/business-solutions/commercial-solar-benefits/', 'https://www.energysage.com/business-solutions/solar-nonprofit-benefits-financing/', 'https://www.energysage.com/business-solutions/energy-storage-for-businesses/', 'https://www.energysage.com/profile/', 'https://www.energysage.com/your-marketplace/', 'https://www.energysage.com/message/', 'https://www.energysage.com/market/solarpv/update/', 'https://www.energysage.com/account-settings/router/', 'https://www.energysage.com/market-process/', 'https://www.energysage.com/share-your-experience/', 'https://www.energysage.com/logout/', 'https://www.energysage.com/login/', 'https://accounts.energysage.com/register/?next=https://www.energysage.com/register-thanks/', 'https://www.energysage.com/profile/', 'https://www.energysage.com/your-marketplace/', 'https://www.energysage.com/message/', 'https://www.energysage.com/market/solarpv/update/', 'https://www.energysage.com/account-settings/router/', 'https://www.energysage.com/market-process/', 'https://www.energysage.com/share-your-experience/', 'https://www.energysage.com/logout/', 'https://www.energysage.com/login/', 'https://accounts.energysage.com/register/?next=https://www.energysage.com/register-thanks/', 'https://www.energysage.com/privacy-policy', 'https://www.energysage.com/shop/home-solar/', 'https://www.energysage.com/shop/community-solar/', 'https://www.energysage.com/shop/heat-pumps/', 'https://www.energysage.com/energy-storage/', 'https://shop.energysage.com/', 'https://www.energysage.com/businesses/', '/authors/liam-mccabe/', 'https://www.energysage.com/shop/clean-energy-savings-and-tax-incentives/', 'https://www.energysage.com/privacy-policy', 'https://www.energysage.com/local-data/solar-companies/ca/', 'https://www.energysage.com/market/start/', 'https://www.energysage.com/supplier/21398/solar-optimum/', 'https://www.energysage.com/supplier/24058/future-energy/', 'https://www.energysage.com/supplier/26285/integratesun-llc/', 'https://www.energysage.com/supplier/20701/nrg-clean-power/', 'https://www.energysage.com/supplier/21169/green-conception-inc/', 'https://www.energysage.com/supplier/26085/sunergy/', 'https://www.energysage.com/supplier/21398/solar-optimum/', 'https://www.energysage.com/supplier/24058/future-energy/', 'https://www.energysage.com/supplier/26285/integratesun-llc/', 'https://www.energysage.com/supplier/20701/nrg-clean-power/', 'https://www.energysage.com/supplier/21169/green-conception-inc/', 'https://www.energysage.com/supplier/26085/sunergy/', 'https://www.energysage.com/market/start/', 'https://www.energysage.com/local-data/solar-companies/ca/', 'https://www.energysage.com/solar/', 'https://www.energysage.com/market/start/', 'https://www.energysage.com/heat-pumps/', 'https://heatpumps.energysage.com/', 'https://www.energysage.com/community-solar/', 'https://communitysolar.energysage.com/projects', 'https://www.energysage.com/solar/', 'https://www.energysage.com/market/start/', 'https://www.energysage.com/heat-pumps/', 'https://heatpumps.energysage.com/', 'https://www.energysage.com/community-solar/', 'https://communitysolar.energysage.com/projects', 'https://www.energysage.com/about-us/company/', 'https://www.energysage.com/shop/home-solar/', 'https://www.energysage.com/shop/community-solar/', 'https://www.energysage.com/shop/heat-pumps/', 'https://www.energysage.com/energy-storage/', 'https://www.energysage.com/ev-charging/', 'https://www.energysage.com/businesses/', 'https://www.energysage.com/other-clean-options/', 'https://www.energysage.com/solar/calculator/', 'https://www.energysage.com/market/equipment-rebates/', 'https://www.energysage.com/blog/', 'https://help.energysage.com', 'https://www.energysage.com/shop/home-solar/']\n"
     ]
    }
   ],
   "source": [
    "one_more_lst=[]\n",
    "one_more_lst=links_lst[:129]+links_lst[140:]\n",
    "print(one_more_lst)"
   ]
  },
  {
   "cell_type": "code",
   "execution_count": 19,
   "id": "f26ec0e3-b2db-4d3e-b96e-bc6c675e0c7f",
   "metadata": {},
   "outputs": [
    {
     "name": "stdout",
     "output_type": "stream",
     "text": [
      "['https://www.energysage.com/solar/', 'https://www.energysage.com/community-solar/', 'https://www.energysage.com/solar/best-solar-panels-complete-ranking/', 'https://www.energysage.com/local-data/solar-panel-cost/', 'https://www.energysage.com/energy-storage/', 'https://www.energysage.com/energy-storage/best-home-batteries/', 'https://www.energysage.com/energy-storage/battery-backup-power-vs-generators-which-is-right-for-you/', 'https://www.energysage.com/heat-pumps/', 'https://www.energysage.com/heat-pumps/costs-and-benefits-air-source-heat-pumps/', 'https://www.energysage.com/heat-pumps/how-do-heat-pumps-work/', 'https://www.energysage.com/ev-charging/', 'https://www.energysage.com/electric-vehicles/', 'https://www.energysage.com/ev-charging/ev-charging-stations/', 'https://www.energysage.com/ev-charging/electric-vehicle-charging-cost/', 'https://www.energysage.com/electricity/', 'https://www.energysage.com/energy-management/', 'https://www.energysage.com/energy-efficiency/', 'https://www.energysage.com/energy-products/', 'https://www.energysage.com/business-solutions/commercial-solar-benefits/', 'https://www.energysage.com/business-solutions/solar-nonprofit-benefits-financing/', 'https://www.energysage.com/business-solutions/energy-storage-for-businesses/', 'https://www.energysage.com/solar/how-to-pay-for-solar/', 'https://www.energysage.com/solar/solar-loans/', 'https://www.energysage.com/solar/solar-leases/', 'https://www.energysage.com/shop/clean-energy-savings-and-tax-incentives/', 'https://www.energysage.com/blog/', 'https://www.energysage.com/blog/', 'https://www.energysage.com/energy-storage/tesla-powerwall-how-much-home-can-you-run-on-it-for-how-long/', 'https://www.energysage.com/solar/solar-panel-efficiency-cost-over-time/', 'https://www.energysage.com/blog/', 'https://www.energysage.com/solar/are-solar-panels-worth-it/', 'https://www.energysage.com/solar/calculator/', 'https://www.energysage.com/about-us/company/', 'https://www.energysage.com/shop/home-solar/', 'https://www.energysage.com/about-us/team/', 'https://www.energysage.com/energy-advisors/', 'https://www.energysage.com/about-us/careers/', 'https://www.energysage.com/data/', 'https://www.energysage.com/editorial-guidelines/', 'https://www.energysage.com/press/', 'https://www.energysage.com/installers/', 'https://www.energysage.com/partners/corporations', 'https://www.energysage.com/partners/non-profits', 'https://www.energysage.com/partners/utilities', 'https://www.energysage.com/partners/', 'https://www.energysage.com/press/energysage-marketplace-intel-report-18', 'https://www.energysage.com/profile/', 'https://www.energysage.com/your-marketplace/', 'https://www.energysage.com/message/', 'https://www.energysage.com/market/solarpv/update/', 'https://www.energysage.com/account-settings/router/', 'https://www.energysage.com/market-process/', 'https://www.energysage.com/share-your-experience/', 'https://www.energysage.com/logout/', 'https://www.energysage.com/login/', 'https://accounts.energysage.com/register/?next=https://www.energysage.com/register-thanks/', 'https://www.energysage.com/shop/home-solar/', 'https://www.energysage.com/shop/home-solar/', 'https://www.energysage.com/shop/home-solar/', 'https://www.energysage.com/shop/home-solar/', 'https://www.energysage.com/solar/', 'https://www.energysage.com/solar/calculator/', 'https://www.energysage.com/supplier/search?selected_facets=services:installers&selected_facets=technology_types:Solar%20PV', 'https://www.energysage.com/solar/financing/loan-providers/', 'https://www.energysage.com/promotions/', 'https://www.energysage.com/solar-panels/', 'https://www.energysage.com/solar-inverters/', 'https://www.energysage.com/local-data/solar-rebates-incentives/', 'https://www.energysage.com/energy-storage/', 'https://www.energysage.com/market/start/', 'https://www.energysage.com/shop/home-solar/', 'https://www.energysage.com/shop/community-solar/', 'https://www.energysage.com/shop/community-solar/', 'https://www.energysage.com/community-solar/', 'https://communitysolar.energysage.com/projects', 'https://www.energysage.com/shop/community-solar/', 'https://www.energysage.com/local-data/solar-panel-cost/', 'https://www.energysage.com/shop/community-solar/', 'https://www.energysage.com/shop/community-solar/', 'https://www.energysage.com/community-solar/', 'https://communitysolar.energysage.com/projects', 'https://www.energysage.com/shop/heat-pumps/', 'https://www.energysage.com/shop/heat-pumps/', 'https://www.energysage.com/heat-pumps/', 'https://www.energysage.com/heat-pumps/heat-pump-incentives/', 'https://www.energysage.com/shop/heat-pumps/', 'https://www.energysage.com/energy-storage/', 'https://www.energysage.com/energy-storage/', 'https://www.energysage.com/energy-storage/', 'https://www.energysage.com/energy-storage/benefits-of-storage/energy-storage-incentives/', 'https://www.energysage.com/solar-batteries/', 'https://www.energysage.com/market/start/', 'https://www.energysage.com/ev-charging/', 'https://www.energysage.com/ev-charging/', 'https://www.energysage.com/ev-charging/', 'https://www.energysage.com/electric-vehicles/', 'https://shop.energysage.com/', 'https://www.energysage.com/businesses/', 'https://www.energysage.com/businesses/', 'https://www.energysage.com/business-solutions/commercial-solar-benefits/', 'https://www.energysage.com/business-solutions/solar-nonprofit-benefits-financing/', 'https://www.energysage.com/business-solutions/energy-storage-for-businesses/', 'https://www.energysage.com/profile/', 'https://www.energysage.com/your-marketplace/', 'https://www.energysage.com/message/', 'https://www.energysage.com/market/solarpv/update/', 'https://www.energysage.com/account-settings/router/', 'https://www.energysage.com/market-process/', 'https://www.energysage.com/share-your-experience/', 'https://www.energysage.com/logout/', 'https://www.energysage.com/login/', 'https://accounts.energysage.com/register/?next=https://www.energysage.com/register-thanks/', 'https://www.energysage.com/profile/', 'https://www.energysage.com/your-marketplace/', 'https://www.energysage.com/message/', 'https://www.energysage.com/market/solarpv/update/', 'https://www.energysage.com/account-settings/router/', 'https://www.energysage.com/market-process/', 'https://www.energysage.com/share-your-experience/', 'https://www.energysage.com/logout/', 'https://www.energysage.com/login/', 'https://accounts.energysage.com/register/?next=https://www.energysage.com/register-thanks/', 'https://www.energysage.com/privacy-policy', 'https://www.energysage.com/shop/home-solar/', 'https://www.energysage.com/shop/community-solar/', 'https://www.energysage.com/shop/heat-pumps/', 'https://www.energysage.com/energy-storage/', 'https://shop.energysage.com/', 'https://www.energysage.com/businesses/', 'https://www.energysage.com/shop/clean-energy-savings-and-tax-incentives/', 'https://www.energysage.com/privacy-policy', 'https://www.energysage.com/local-data/solar-companies/ca/', 'https://www.energysage.com/market/start/', 'https://www.energysage.com/supplier/21398/solar-optimum/', 'https://www.energysage.com/supplier/24058/future-energy/', 'https://www.energysage.com/supplier/26285/integratesun-llc/', 'https://www.energysage.com/supplier/20701/nrg-clean-power/', 'https://www.energysage.com/supplier/21169/green-conception-inc/', 'https://www.energysage.com/supplier/26085/sunergy/', 'https://www.energysage.com/supplier/21398/solar-optimum/', 'https://www.energysage.com/supplier/24058/future-energy/', 'https://www.energysage.com/supplier/26285/integratesun-llc/', 'https://www.energysage.com/supplier/20701/nrg-clean-power/', 'https://www.energysage.com/supplier/21169/green-conception-inc/', 'https://www.energysage.com/supplier/26085/sunergy/', 'https://www.energysage.com/market/start/', 'https://www.energysage.com/local-data/solar-companies/ca/', 'https://www.energysage.com/solar/', 'https://www.energysage.com/market/start/', 'https://www.energysage.com/heat-pumps/', 'https://heatpumps.energysage.com/', 'https://www.energysage.com/community-solar/', 'https://communitysolar.energysage.com/projects', 'https://www.energysage.com/solar/', 'https://www.energysage.com/market/start/', 'https://www.energysage.com/heat-pumps/', 'https://heatpumps.energysage.com/', 'https://www.energysage.com/community-solar/', 'https://communitysolar.energysage.com/projects', 'https://www.energysage.com/about-us/company/', 'https://www.energysage.com/shop/home-solar/', 'https://www.energysage.com/shop/community-solar/', 'https://www.energysage.com/shop/heat-pumps/', 'https://www.energysage.com/energy-storage/', 'https://www.energysage.com/ev-charging/', 'https://www.energysage.com/businesses/', 'https://www.energysage.com/other-clean-options/', 'https://www.energysage.com/solar/calculator/', 'https://www.energysage.com/market/equipment-rebates/', 'https://www.energysage.com/blog/', 'https://help.energysage.com', 'https://www.energysage.com/shop/home-solar/']\n"
     ]
    }
   ],
   "source": [
    "print(one_more_lst)"
   ]
  },
  {
   "cell_type": "code",
   "execution_count": 22,
   "id": "195b96e2",
   "metadata": {},
   "outputs": [
    {
     "name": "stdout",
     "output_type": "stream",
     "text": [
      "92\n"
     ]
    }
   ],
   "source": [
    "print(len(final_lst))"
   ]
  },
  {
   "cell_type": "code",
   "execution_count": 23,
   "id": "1ba3c2fa-33e6-496f-a4ef-12040a96afa1",
   "metadata": {},
   "outputs": [
    {
     "name": "stdout",
     "output_type": "stream",
     "text": [
      "172\n"
     ]
    }
   ],
   "source": [
    "print(len(one_more_lst))"
   ]
  },
  {
   "cell_type": "code",
   "execution_count": 25,
   "id": "7492d5b9-633e-47a8-9062-6bbe4689f93b",
   "metadata": {},
   "outputs": [
    {
     "name": "stdout",
     "output_type": "stream",
     "text": [
      "['com-solar-.txt', 'com-community-solar-.txt', 'com-solar-best-solar-panels-complete-ranking-.txt', 'com-local-data-solar-panel-cost-.txt', 'com-energy-storage-.txt', 'com-energy-storage-best-home-batteries-.txt', 'com-energy-storage-battery-backup-power-vs-generators-which-is-right-for-you-.txt', 'com-heat-pumps-.txt', 'com-heat-pumps-costs-and-benefits-air-source-heat-pumps-.txt', 'com-heat-pumps-how-do-heat-pumps-work-.txt', 'com-ev-charging-.txt', 'com-electric-vehicles-.txt', 'com-ev-charging-ev-charging-stations-.txt', 'com-ev-charging-electric-vehicle-charging-cost-.txt', 'com-electricity-.txt', 'com-energy-management-.txt', 'com-energy-efficiency-.txt', 'com-energy-products-.txt', 'com-business-solutions-commercial-solar-benefits-.txt', 'com-business-solutions-solar-nonprofit-benefits-financing-.txt', 'com-business-solutions-energy-storage-for-businesses-.txt', 'com-solar-how-to-pay-for-solar-.txt', 'com-solar-solar-loans-.txt', 'com-solar-solar-leases-.txt', 'com-shop-clean-energy-savings-and-tax-incentives-.txt', 'com-blog-.txt', 'com-blog-.txt', 'com-energy-storage-tesla-powerwall-how-much-home-can-you-run-on-it-for-how-long-.txt', 'com-solar-solar-panel-efficiency-cost-over-time-.txt', 'com-blog-.txt', 'com-solar-are-solar-panels-worth-it-.txt', 'com-shop-home-solar-.txt', 'com-energy-advisors-.txt', 'com-partners-corporations.txt', 'com-your-marketplace-.txt', 'com-shop-home-solar-.txt', 'com-shop-home-solar-.txt', 'com-shop-home-solar-.txt', 'com-shop-home-solar-.txt', 'com-solar-.txt', 'com-local-data-solar-rebates-incentives-.txt', 'com-energy-storage-.txt', 'com-shop-home-solar-.txt', 'com-shop-community-solar-.txt', 'com-shop-community-solar-.txt', 'com-community-solar-.txt', 'com-shop-community-solar-.txt', 'com-local-data-solar-panel-cost-.txt', 'com-shop-community-solar-.txt', 'com-shop-community-solar-.txt', 'com-community-solar-.txt', 'com-shop-heat-pumps-.txt', 'com-shop-heat-pumps-.txt', 'com-heat-pumps-.txt', 'com-heat-pumps-heat-pump-incentives-.txt', 'com-shop-heat-pumps-.txt', 'com-energy-storage-.txt', 'com-energy-storage-.txt', 'com-energy-storage-.txt', 'com-energy-storage-benefits-of-storage-energy-storage-incentives-.txt', 'com-ev-charging-.txt', 'com-ev-charging-.txt', 'com-ev-charging-.txt', 'com-electric-vehicles-.txt', 'com-business-solutions-commercial-solar-benefits-.txt', 'com-business-solutions-solar-nonprofit-benefits-financing-.txt', 'com-business-solutions-energy-storage-for-businesses-.txt', 'com-your-marketplace-.txt', 'com-your-marketplace-.txt', 'com-shop-home-solar-.txt', 'com-shop-community-solar-.txt', 'com-shop-heat-pumps-.txt', 'com-energy-storage-.txt', 'com-shop-clean-energy-savings-and-tax-incentives-.txt', 'com-local-data-solar-companies-ca-.txt', 'com-local-data-solar-companies-ca-.txt', 'com-solar-.txt', 'com-heat-pumps-.txt', 'pumps.energysage.com-.txt', 'com-community-solar-.txt', 'com-solar-.txt', 'com-heat-pumps-.txt', 'pumps.energysage.com-.txt', 'com-community-solar-.txt', 'com-shop-home-solar-.txt', 'com-shop-community-solar-.txt', 'com-shop-heat-pumps-.txt', 'com-energy-storage-.txt', 'com-ev-charging-.txt', 'com-other-clean-options-.txt', 'com-blog-.txt', 'com-shop-home-solar-.txt']\n",
      "92\n"
     ]
    }
   ],
   "source": [
    "print(final_lst)\n",
    "print(len(final_lst))"
   ]
  },
  {
   "cell_type": "code",
   "execution_count": 26,
   "id": "2019f5eb-2c76-4d0e-bfc3-d79e7e230975",
   "metadata": {},
   "outputs": [
    {
     "name": "stdout",
     "output_type": "stream",
     "text": [
      "41\n"
     ]
    }
   ],
   "source": [
    "asd=set(final_lst)\n",
    "print(len(asd))"
   ]
  },
  {
   "cell_type": "code",
   "execution_count": null,
   "id": "60c896dc-f2ba-4413-80d8-7d83f98579b0",
   "metadata": {},
   "outputs": [],
   "source": []
  }
 ],
 "metadata": {
  "kernelspec": {
   "display_name": "Python 3 (ipykernel)",
   "language": "python",
   "name": "python3"
  },
  "language_info": {
   "codemirror_mode": {
    "name": "ipython",
    "version": 3
   },
   "file_extension": ".py",
   "mimetype": "text/x-python",
   "name": "python",
   "nbconvert_exporter": "python",
   "pygments_lexer": "ipython3",
   "version": "3.11.7"
  }
 },
 "nbformat": 4,
 "nbformat_minor": 5
}
