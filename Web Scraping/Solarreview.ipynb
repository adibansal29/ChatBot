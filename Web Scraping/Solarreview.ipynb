{
 "cells": [
  {
   "cell_type": "code",
   "execution_count": 4,
   "id": "47f47bba",
   "metadata": {},
   "outputs": [],
   "source": [
    "import requests\n",
    "from bs4 import BeautifulSoup"
   ]
  },
  {
   "cell_type": "code",
   "execution_count": 19,
   "id": "1008ac9c",
   "metadata": {},
   "outputs": [],
   "source": [
    "req=requests.get('https://www.solarreviews.com/press/solarreviews-launches-2024-solar-industry-survey')\n",
    "soup=BeautifulSoup(req.content,'lxml')"
   ]
  },
  {
   "cell_type": "code",
   "execution_count": 27,
   "id": "2f4ff673",
   "metadata": {},
   "outputs": [],
   "source": [
    "content=soup.find_all('p')\n"
   ]
  },
  {
   "cell_type": "code",
   "execution_count": 28,
   "id": "93da8210",
   "metadata": {},
   "outputs": [
    {
     "name": "stdout",
     "output_type": "stream",
     "text": [
      "\n",
      "                                Updated 3 weeks ago\n",
      "                            \n",
      "123\n",
      "May 16, 2024 - SolarReviews announces the results of the 2024 Solar Industry Survey! The Survey was conducted in partnership with the North American Board of Certified Energy Practitioners (NABCEP) from February 6th through February 10th, 2024. \n",
      "123\n",
      "The Survey attracted respondents across the solar industry and from every U.S. state. The Report details trends within the solar industry, including the impact of the Inflation Reduction Act (IRA) on manufacturing, how higher financing costs hamper residential solar growth, and the most popular panel and inverter brands, according to installers. The full report can be found here.\n",
      "123\n",
      " “After a tumultuous year of changes in state solar policy and closures of high-profile solar installation companies, it's more important than ever that we get good data about the state of the industry. We're proud to partner with NABCEP and hear hundreds of companies' opinions to provide a snapshot of where the solar industry is in early 2024,” said Andrew Sendy, President of SolarReviews.\n",
      "123\n",
      "“We expect that the data from this year’s SolarReviews annual Solar Industry Survey will closely match what we hear from PV industry professionals all around the globe. There is so much to learn about the changes in direction and where we go from here after a year filled with great progress but also new challenges to overcome. We know our certifications and credentials will help prepare the incoming PV workforce to meet those challenges head-on and make the future of solar energy the best it can be,” said Shawn O’Brien, President & CEO of NABCEP.\n",
      "123\n",
      "The Survey revealed important trends and goes into more detail about the key statistics found here: \n",
      "123\n",
      "The percentage of installations that use products manufactured in the United States has increased to 56% from 34% last year, likely a direct result of IRA benefits. \n",
      "123\n",
      "Installers named Qcells the top solar module brand this year, whereas Enphase was the top pick for both inverters and energy storage systems. \n",
      "123\n",
      "Financing solar panels is getting more expensive – 54% of installers say customers were less likely to take a solar loan this past year, and cash purchases of systems are up. \n",
      "123\n",
      "Reduced net metering benefits and a lack of skilled workers are adding to the stress of higher financing costs for home solar. \n",
      "123\n"
     ]
    }
   ],
   "source": [
    "acontent=content[5:-8]\n",
    "for i in acontent:\n",
    "    print(i.get_text())\n",
    "    print('123')"
   ]
  },
  {
   "cell_type": "code",
   "execution_count": 1,
   "id": "52795b7e",
   "metadata": {},
   "outputs": [],
   "source": [
    "lst_files=['https://www.solarreviews.com/going-solar-with-your-utility','https://www.solarreviews.com/solar-companies','https://www.solarreviews.com/solar-panel-reviews#expert-review','https://www.solarreviews.com/solar-battery-reviews','https://www.solarreviews.com/solar-inverter-reviews','https://www.solarreviews.com/solar-panel-cost','https://www.solarreviews.com/blog/how-to-calculate-your-solar-payback-period','https://www.solarreviews.com/blog/what-are-the-best-solar-panels-to-buy-for-your-home']"
   ]
  },
  {
   "cell_type": "code",
   "execution_count": 2,
   "id": "a6b39b88",
   "metadata": {},
   "outputs": [
    {
     "name": "stdout",
     "output_type": "stream",
     "text": [
      "['https://www.solarreviews.com/going-solar-with-your-utility', 'https://www.solarreviews.com/solar-companies', 'https://www.solarreviews.com/solar-panel-reviews#expert-review', 'https://www.solarreviews.com/solar-battery-reviews', 'https://www.solarreviews.com/solar-inverter-reviews', 'https://www.solarreviews.com/solar-panel-cost', 'https://www.solarreviews.com/blog/how-to-calculate-your-solar-payback-period', 'https://www.solarreviews.com/blog/what-are-the-best-solar-panels-to-buy-for-your-home']\n"
     ]
    }
   ],
   "source": [
    "print(lst_files)"
   ]
  },
  {
   "cell_type": "code",
   "execution_count": 3,
   "id": "d80437c0-837d-4b6a-b467-debfdc7d779d",
   "metadata": {},
   "outputs": [
    {
     "name": "stdout",
     "output_type": "stream",
     "text": [
      "8\n"
     ]
    }
   ],
   "source": [
    "print(len(lst_files))"
   ]
  },
  {
   "cell_type": "code",
   "execution_count": 5,
   "id": "254b4463-a0bb-491f-a4a8-0154e1470a8b",
   "metadata": {},
   "outputs": [],
   "source": [
    "urls=['https://www.solarreviews.com/press?page=1','https://www.solarreviews.com/press?page=2','https://www.solarreviews.com/press?page=3']"
   ]
  },
  {
   "cell_type": "code",
   "execution_count": 9,
   "id": "a0cbfd57-5d48-451f-8522-6ab464491250",
   "metadata": {},
   "outputs": [],
   "source": [
    "lst1=['https://www.solarreviews.com/press/solarreviews-nabcep-announce-renewed-partnership','https://www.solarreviews.com/press/solarreviews-releases-top-10-states-for-home-solar','https://www.solarreviews.com/press/solarreviews-releases-solar-industry-survey-results','https://www.solarreviews.com/press/solarreviews-launches-2022-solar-industry-survey','https://www.solarreviews.com/press/solarreviews-releases-best-solar-panel-manufacturer-list-2023','https://www.solarreviews.com/press/solarreviews-and-sei-announce-renewed-partnership','https://www.solarreviews.com/press/solarreviews-and-nabcep-renew-partnership','https://www.solarreviews.com/press/solarreviews-releases-best-solar-panel-brands-list-2024']"
   ]
  },
  {
   "cell_type": "code",
   "execution_count": 10,
   "id": "a925712c-4324-4203-a49e-d44342f11902",
   "metadata": {},
   "outputs": [
    {
     "name": "stdout",
     "output_type": "stream",
     "text": [
      "8\n"
     ]
    }
   ],
   "source": [
    "print(len(lst1))"
   ]
  },
  {
   "cell_type": "code",
   "execution_count": 11,
   "id": "39afcf2a-e6b7-4733-be01-f7ee5d08090b",
   "metadata": {},
   "outputs": [
    {
     "name": "stdout",
     "output_type": "stream",
     "text": [
      "8\n"
     ]
    }
   ],
   "source": [
    "lst2=['https://www.solarreviews.com/press/solarreviews-ira-bill-survey-results','https://www.solarreviews.com/press/solarreviews-acquires-fixr','https://www.solarreviews.com/press/solarreviews-releases-senate-bill-1024-survey-results','https://www.solarreviews.com/press/solarreviews-survey-cpuc-proposal','https://www.solarreviews.com/press/solarreviews-releases-solar-battery-adoption-report','https://www.solarreviews.com/press/solarreviews-releases-best-solar-manufacturers-ranking','https://www.solarreviews.com/press/solarreviews-releases-new-solar-calculator','https://www.solarreviews.com/press/solarreviews-releases-ev-consumer-guide']\n",
    "print(len(lst2))"
   ]
  },
  {
   "cell_type": "code",
   "execution_count": 12,
   "id": "0b5186bb-e615-45d3-9bcc-828540966579",
   "metadata": {},
   "outputs": [
    {
     "name": "stdout",
     "output_type": "stream",
     "text": [
      "6\n"
     ]
    }
   ],
   "source": [
    "lst3=['https://www.solarreviews.com/press/solarreviews-and-nabcep-exclusive-partnership','https://www.solarreviews.com/press/solarreviews-and-beacn-release-largest-home-solar-survey','https://www.solarreviews.com/press/solarreviews-announces-new-employee-incentive-to-promote-sustainability','https://solarreviews.com/press/solarreviews-cautions-consumers-to-understand-tesla-solar-risks','https://www.solarreviews.com/press/solar-energy-international-solarreviews-partnership','https://www.solarreviews.com/press/solarreviews-launches-2024-solar-industry-survey']\n",
    "print(len(lst3))"
   ]
  },
  {
   "cell_type": "code",
   "execution_count": 13,
   "id": "9e011f51-9c13-490b-8d8d-d0edae5b6528",
   "metadata": {},
   "outputs": [
    {
     "name": "stdout",
     "output_type": "stream",
     "text": [
      "22\n"
     ]
    }
   ],
   "source": [
    "lst1.extend(lst2)\n",
    "lst1.extend(lst3)\n",
    "print(len(lst1))"
   ]
  },
  {
   "cell_type": "code",
   "execution_count": 14,
   "id": "d539d2b0-b7d7-4afd-ac04-74475a1a58b6",
   "metadata": {},
   "outputs": [],
   "source": [
    "lst_files.extend(lst1)"
   ]
  },
  {
   "cell_type": "code",
   "execution_count": 15,
   "id": "7b7caa46-e223-44e1-9d43-d5395178c47d",
   "metadata": {},
   "outputs": [
    {
     "name": "stdout",
     "output_type": "stream",
     "text": [
      "30\n"
     ]
    }
   ],
   "source": [
    "print(len(lst_files))"
   ]
  },
  {
   "cell_type": "code",
   "execution_count": 29,
   "id": "30eb706c-162a-4516-b84f-85f6f9f5056e",
   "metadata": {},
   "outputs": [],
   "source": [
    "final_lst=[]\n",
    "for i in lst_files:\n",
    "    response=requests.get(i)\n",
    "    soup=BeautifulSoup(response.content,'lxml')\n",
    "    content=soup.find_all('p')\n",
    "    content=content[5:-8]\n",
    "    \n",
    "    if len(content)!=0:\n",
    "        \n",
    "        name=i.replace('https://www.','-')\n",
    "        name=name.replace('/','-')+'.txt'\n",
    "        final_lst.append(name)\n",
    "    \n",
    "        with open(name,'w') as file1:\n",
    "    \n",
    "            for abc in content:\n",
    "                file1.write(abc.get_text())\n",
    "                file1.write('\\n')\n",
    "                file1.write('\\n')\n",
    "            file1.close()"
   ]
  },
  {
   "cell_type": "code",
   "execution_count": 31,
   "id": "af32d92f-f8ab-44e9-88df-29321a124edc",
   "metadata": {},
   "outputs": [
    {
     "name": "stdout",
     "output_type": "stream",
     "text": [
      "['-solarreviews.com-going-solar-with-your-utility.txt', '-solarreviews.com-solar-companies.txt', '-solarreviews.com-solar-panel-reviews#expert-review.txt', '-solarreviews.com-solar-battery-reviews.txt', '-solarreviews.com-solar-inverter-reviews.txt', '-solarreviews.com-solar-panel-cost.txt', '-solarreviews.com-blog-how-to-calculate-your-solar-payback-period.txt', '-solarreviews.com-blog-what-are-the-best-solar-panels-to-buy-for-your-home.txt', '-solarreviews.com-press-solarreviews-nabcep-announce-renewed-partnership.txt', '-solarreviews.com-press-solarreviews-releases-top-10-states-for-home-solar.txt', '-solarreviews.com-press-solarreviews-releases-solar-industry-survey-results.txt', '-solarreviews.com-press-solarreviews-launches-2022-solar-industry-survey.txt', '-solarreviews.com-press-solarreviews-releases-best-solar-panel-manufacturer-list-2023.txt', '-solarreviews.com-press-solarreviews-and-sei-announce-renewed-partnership.txt', '-solarreviews.com-press-solarreviews-and-nabcep-renew-partnership.txt', '-solarreviews.com-press-solarreviews-releases-best-solar-panel-brands-list-2024.txt', '-solarreviews.com-press-solarreviews-ira-bill-survey-results.txt', '-solarreviews.com-press-solarreviews-acquires-fixr.txt', '-solarreviews.com-press-solarreviews-releases-senate-bill-1024-survey-results.txt', '-solarreviews.com-press-solarreviews-survey-cpuc-proposal.txt', '-solarreviews.com-press-solarreviews-releases-solar-battery-adoption-report.txt', '-solarreviews.com-press-solarreviews-releases-best-solar-manufacturers-ranking.txt', '-solarreviews.com-press-solarreviews-releases-new-solar-calculator.txt', '-solarreviews.com-press-solarreviews-releases-ev-consumer-guide.txt', '-solarreviews.com-press-solarreviews-and-nabcep-exclusive-partnership.txt', '-solarreviews.com-press-solarreviews-and-beacn-release-largest-home-solar-survey.txt', '-solarreviews.com-press-solarreviews-announces-new-employee-incentive-to-promote-sustainability.txt', 'https:--solarreviews.com-press-solarreviews-cautions-consumers-to-understand-tesla-solar-risks.txt', '-solarreviews.com-press-solar-energy-international-solarreviews-partnership.txt', '-solarreviews.com-press-solarreviews-launches-2024-solar-industry-survey.txt']\n"
     ]
    }
   ],
   "source": [
    "print(final_lst)"
   ]
  },
  {
   "cell_type": "code",
   "execution_count": 32,
   "id": "7b5ccb17-e76a-44b0-be8c-eaae606ca467",
   "metadata": {},
   "outputs": [
    {
     "name": "stdout",
     "output_type": "stream",
     "text": [
      "['https://www.solarreviews.com/going-solar-with-your-utility', 'https://www.solarreviews.com/solar-companies', 'https://www.solarreviews.com/solar-panel-reviews#expert-review', 'https://www.solarreviews.com/solar-battery-reviews', 'https://www.solarreviews.com/solar-inverter-reviews', 'https://www.solarreviews.com/solar-panel-cost', 'https://www.solarreviews.com/blog/how-to-calculate-your-solar-payback-period', 'https://www.solarreviews.com/blog/what-are-the-best-solar-panels-to-buy-for-your-home', 'https://www.solarreviews.com/press/solarreviews-nabcep-announce-renewed-partnership', 'https://www.solarreviews.com/press/solarreviews-releases-top-10-states-for-home-solar', 'https://www.solarreviews.com/press/solarreviews-releases-solar-industry-survey-results', 'https://www.solarreviews.com/press/solarreviews-launches-2022-solar-industry-survey', 'https://www.solarreviews.com/press/solarreviews-releases-best-solar-panel-manufacturer-list-2023', 'https://www.solarreviews.com/press/solarreviews-and-sei-announce-renewed-partnership', 'https://www.solarreviews.com/press/solarreviews-and-nabcep-renew-partnership', 'https://www.solarreviews.com/press/solarreviews-releases-best-solar-panel-brands-list-2024', 'https://www.solarreviews.com/press/solarreviews-ira-bill-survey-results', 'https://www.solarreviews.com/press/solarreviews-acquires-fixr', 'https://www.solarreviews.com/press/solarreviews-releases-senate-bill-1024-survey-results', 'https://www.solarreviews.com/press/solarreviews-survey-cpuc-proposal', 'https://www.solarreviews.com/press/solarreviews-releases-solar-battery-adoption-report', 'https://www.solarreviews.com/press/solarreviews-releases-best-solar-manufacturers-ranking', 'https://www.solarreviews.com/press/solarreviews-releases-new-solar-calculator', 'https://www.solarreviews.com/press/solarreviews-releases-ev-consumer-guide', 'https://www.solarreviews.com/press/solarreviews-and-nabcep-exclusive-partnership', 'https://www.solarreviews.com/press/solarreviews-and-beacn-release-largest-home-solar-survey', 'https://www.solarreviews.com/press/solarreviews-announces-new-employee-incentive-to-promote-sustainability', 'https://solarreviews.com/press/solarreviews-cautions-consumers-to-understand-tesla-solar-risks', 'https://www.solarreviews.com/press/solar-energy-international-solarreviews-partnership', 'https://www.solarreviews.com/press/solarreviews-launches-2024-solar-industry-survey']\n"
     ]
    }
   ],
   "source": [
    "print(lst_files)"
   ]
  },
  {
   "cell_type": "code",
   "execution_count": 34,
   "id": "ef7eeda2-fc7b-422e-8307-b0e6afcfcce9",
   "metadata": {},
   "outputs": [],
   "source": [
    "url='solarreviews.com-press-solarreviews-cautions-consumers-to-understand-tesla-solar-risks.txt'\n",
    "url2='https://solarreviews.com/press/solarreviews-cautions-consumers-to-understand-tesla-solar-risks'\n",
    "response=requests.get(url2)\n",
    "soup=BeautifulSoup(response.content,'lxml')\n",
    "content=soup.find_all('p')\n",
    "content=content[5:-8]\n",
    "    \n",
    "    \n",
    "        \n",
    "\n",
    "final_lst.append(url)\n",
    "    \n",
    "with open(url,'w') as file1:\n",
    "    \n",
    "    for abc in content:\n",
    "        file1.write(abc.get_text())\n",
    "        file1.write('\\n')\n",
    "        file1.write('\\n')\n",
    "    file1.close()"
   ]
  },
  {
   "cell_type": "code",
   "execution_count": 35,
   "id": "b0f32fde-87d9-4d86-a2e8-3c0a8dfbb594",
   "metadata": {},
   "outputs": [
    {
     "name": "stdout",
     "output_type": "stream",
     "text": [
      "31\n"
     ]
    }
   ],
   "source": [
    "print(len(final_lst))"
   ]
  },
  {
   "cell_type": "code",
   "execution_count": 36,
   "id": "0952b847-4cac-436d-a48e-9339ce4afe2e",
   "metadata": {},
   "outputs": [],
   "source": [
    "final_lst.remove('https:--solarreviews.com-press-solarreviews-cautions-consumers-to-understand-tesla-solar-risks.txt')"
   ]
  },
  {
   "cell_type": "code",
   "execution_count": 37,
   "id": "76de66a2-d014-4897-a6d3-d5a187dd4f60",
   "metadata": {},
   "outputs": [
    {
     "name": "stdout",
     "output_type": "stream",
     "text": [
      "['-solarreviews.com-going-solar-with-your-utility.txt', '-solarreviews.com-solar-companies.txt', '-solarreviews.com-solar-panel-reviews#expert-review.txt', '-solarreviews.com-solar-battery-reviews.txt', '-solarreviews.com-solar-inverter-reviews.txt', '-solarreviews.com-solar-panel-cost.txt', '-solarreviews.com-blog-how-to-calculate-your-solar-payback-period.txt', '-solarreviews.com-blog-what-are-the-best-solar-panels-to-buy-for-your-home.txt', '-solarreviews.com-press-solarreviews-nabcep-announce-renewed-partnership.txt', '-solarreviews.com-press-solarreviews-releases-top-10-states-for-home-solar.txt', '-solarreviews.com-press-solarreviews-releases-solar-industry-survey-results.txt', '-solarreviews.com-press-solarreviews-launches-2022-solar-industry-survey.txt', '-solarreviews.com-press-solarreviews-releases-best-solar-panel-manufacturer-list-2023.txt', '-solarreviews.com-press-solarreviews-and-sei-announce-renewed-partnership.txt', '-solarreviews.com-press-solarreviews-and-nabcep-renew-partnership.txt', '-solarreviews.com-press-solarreviews-releases-best-solar-panel-brands-list-2024.txt', '-solarreviews.com-press-solarreviews-ira-bill-survey-results.txt', '-solarreviews.com-press-solarreviews-acquires-fixr.txt', '-solarreviews.com-press-solarreviews-releases-senate-bill-1024-survey-results.txt', '-solarreviews.com-press-solarreviews-survey-cpuc-proposal.txt', '-solarreviews.com-press-solarreviews-releases-solar-battery-adoption-report.txt', '-solarreviews.com-press-solarreviews-releases-best-solar-manufacturers-ranking.txt', '-solarreviews.com-press-solarreviews-releases-new-solar-calculator.txt', '-solarreviews.com-press-solarreviews-releases-ev-consumer-guide.txt', '-solarreviews.com-press-solarreviews-and-nabcep-exclusive-partnership.txt', '-solarreviews.com-press-solarreviews-and-beacn-release-largest-home-solar-survey.txt', '-solarreviews.com-press-solarreviews-announces-new-employee-incentive-to-promote-sustainability.txt', '-solarreviews.com-press-solar-energy-international-solarreviews-partnership.txt', '-solarreviews.com-press-solarreviews-launches-2024-solar-industry-survey.txt', 'solarreviews.com-press-solarreviews-cautions-consumers-to-understand-tesla-solar-risks.txt']\n"
     ]
    }
   ],
   "source": [
    "print(final_lst)"
   ]
  },
  {
   "cell_type": "code",
   "execution_count": 38,
   "id": "e92290b8-ad2a-4ed7-824a-e978cdcb100a",
   "metadata": {},
   "outputs": [
    {
     "name": "stdout",
     "output_type": "stream",
     "text": [
      "30\n"
     ]
    }
   ],
   "source": [
    "asddd=set(final_lst)\n",
    "print(len(asddd))"
   ]
  },
  {
   "cell_type": "code",
   "execution_count": null,
   "id": "68d09ea0-7f80-4bd4-8895-a59ecd99149e",
   "metadata": {},
   "outputs": [],
   "source": []
  }
 ],
 "metadata": {
  "kernelspec": {
   "display_name": "Python 3 (ipykernel)",
   "language": "python",
   "name": "python3"
  },
  "language_info": {
   "codemirror_mode": {
    "name": "ipython",
    "version": 3
   },
   "file_extension": ".py",
   "mimetype": "text/x-python",
   "name": "python",
   "nbconvert_exporter": "python",
   "pygments_lexer": "ipython3",
   "version": "3.11.7"
  }
 },
 "nbformat": 4,
 "nbformat_minor": 5
}
